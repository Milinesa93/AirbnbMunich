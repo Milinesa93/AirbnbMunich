{
 "cells": [
  {
   "cell_type": "code",
   "execution_count": 1,
   "metadata": {},
   "outputs": [],
   "source": [
    "import pandas as pd\n",
    "import numpy as np\n",
    "import matplotlib.pyplot as plt\n",
    "import seaborn as sns\n",
    "import os\n",
    "import requests\n",
    "import json\n",
    "import geopy.distance\n",
    "import geopandas as gpd\n",
    "from shapely.geometry import Point, Polygon\n"
   ]
  },
  {
   "cell_type": "code",
   "execution_count": 3,
   "metadata": {},
   "outputs": [],
   "source": [
    "# Load the data\n",
    "listings_df = pd.read_csv('data/listings.csv')\n",
    "listingsgz_df = pd.read_csv('data/listings.csv.gz')\n",
    "reviews_df = pd.read_csv('data/reviews.csv')\n",
    "calendargz_df = pd.read_csv('data/calendar.csv.gz')\n",
    "neighbourhoods_df = pd.read_csv('data/neighbourhoods.csv')\n",
    "reviewsgz_df = pd.read_csv('data/reviews.csv.gz')\n",
    "neighbourhoods_df_geojson = gpd.read_file('data/neighbourhoods.geojson')"
   ]
  },
  {
   "cell_type": "markdown",
   "metadata": {},
   "source": [
    "#### Un grupo de inversionistas, solicitan un estudio sobre la ciudad de Munich cercano a Theresienwiese, donde se celebra todos los años el OctokerFest. Creen que invertir en esta zona, les dara mayores ganancias a futuro que en otras zonas de Munich. El objetivo de adquirir la propiedad, es convertirlo en un Airbnb, quieren determinar segun los resultados si será para compartir o departamento entero, según cual da mayores ganancias.\n",
    "##### Se les brindará la informacion de los barrios más cercanos a este punto, con mayores precios de alquiler por Airbnb junto con el tipo de alquiler (compartido o entero)."
   ]
  },
  {
   "cell_type": "code",
   "execution_count": 4,
   "metadata": {},
   "outputs": [
    {
     "data": {
      "text/html": [
       "<div>\n",
       "<style scoped>\n",
       "    .dataframe tbody tr th:only-of-type {\n",
       "        vertical-align: middle;\n",
       "    }\n",
       "\n",
       "    .dataframe tbody tr th {\n",
       "        vertical-align: top;\n",
       "    }\n",
       "\n",
       "    .dataframe thead th {\n",
       "        text-align: right;\n",
       "    }\n",
       "</style>\n",
       "<table border=\"1\" class=\"dataframe\">\n",
       "  <thead>\n",
       "    <tr style=\"text-align: right;\">\n",
       "      <th></th>\n",
       "      <th>id</th>\n",
       "      <th>name</th>\n",
       "      <th>host_id</th>\n",
       "      <th>host_name</th>\n",
       "      <th>neighbourhood_group</th>\n",
       "      <th>neighbourhood</th>\n",
       "      <th>latitude</th>\n",
       "      <th>longitude</th>\n",
       "      <th>room_type</th>\n",
       "      <th>price</th>\n",
       "      <th>minimum_nights</th>\n",
       "      <th>number_of_reviews</th>\n",
       "      <th>last_review</th>\n",
       "      <th>reviews_per_month</th>\n",
       "      <th>calculated_host_listings_count</th>\n",
       "      <th>availability_365</th>\n",
       "      <th>number_of_reviews_ltm</th>\n",
       "      <th>license</th>\n",
       "    </tr>\n",
       "  </thead>\n",
       "  <tbody>\n",
       "    <tr>\n",
       "      <th>0</th>\n",
       "      <td>97945</td>\n",
       "      <td>Rental unit in Munich · ★4.84 · 1 bedroom · 1 ...</td>\n",
       "      <td>517685</td>\n",
       "      <td>Angelika</td>\n",
       "      <td>NaN</td>\n",
       "      <td>Hadern</td>\n",
       "      <td>48.11492</td>\n",
       "      <td>11.48954</td>\n",
       "      <td>Entire home/apt</td>\n",
       "      <td>80.0</td>\n",
       "      <td>2</td>\n",
       "      <td>127</td>\n",
       "      <td>2019-10-03</td>\n",
       "      <td>0.85</td>\n",
       "      <td>2</td>\n",
       "      <td>72</td>\n",
       "      <td>0</td>\n",
       "      <td>NaN</td>\n",
       "    </tr>\n",
       "    <tr>\n",
       "      <th>1</th>\n",
       "      <td>114695</td>\n",
       "      <td>Rental unit in Munich · ★4.82 · 1 bedroom · 1 ...</td>\n",
       "      <td>581737</td>\n",
       "      <td>Stephan</td>\n",
       "      <td>NaN</td>\n",
       "      <td>Berg am Laim</td>\n",
       "      <td>48.12071</td>\n",
       "      <td>11.63758</td>\n",
       "      <td>Entire home/apt</td>\n",
       "      <td>105.0</td>\n",
       "      <td>2</td>\n",
       "      <td>66</td>\n",
       "      <td>2023-10-25</td>\n",
       "      <td>0.43</td>\n",
       "      <td>3</td>\n",
       "      <td>166</td>\n",
       "      <td>11</td>\n",
       "      <td>NaN</td>\n",
       "    </tr>\n",
       "    <tr>\n",
       "      <th>2</th>\n",
       "      <td>127383</td>\n",
       "      <td>Rental unit in Munich · ★4.83 · 1 bedroom · 1 ...</td>\n",
       "      <td>630556</td>\n",
       "      <td>Sonja</td>\n",
       "      <td>NaN</td>\n",
       "      <td>Maxvorstadt</td>\n",
       "      <td>48.15199</td>\n",
       "      <td>11.56482</td>\n",
       "      <td>Entire home/apt</td>\n",
       "      <td>120.0</td>\n",
       "      <td>3</td>\n",
       "      <td>110</td>\n",
       "      <td>2023-12-12</td>\n",
       "      <td>0.72</td>\n",
       "      <td>1</td>\n",
       "      <td>5</td>\n",
       "      <td>3</td>\n",
       "      <td>NaN</td>\n",
       "    </tr>\n",
       "    <tr>\n",
       "      <th>3</th>\n",
       "      <td>159634</td>\n",
       "      <td>Rental unit in Munich · ★4.63 · 1 bedroom · 1 ...</td>\n",
       "      <td>765694</td>\n",
       "      <td>Susana</td>\n",
       "      <td>NaN</td>\n",
       "      <td>Pasing-Obermenzing</td>\n",
       "      <td>48.13855</td>\n",
       "      <td>11.46586</td>\n",
       "      <td>Entire home/apt</td>\n",
       "      <td>60.0</td>\n",
       "      <td>3</td>\n",
       "      <td>37</td>\n",
       "      <td>2023-08-09</td>\n",
       "      <td>0.25</td>\n",
       "      <td>1</td>\n",
       "      <td>5</td>\n",
       "      <td>1</td>\n",
       "      <td>NaN</td>\n",
       "    </tr>\n",
       "    <tr>\n",
       "      <th>4</th>\n",
       "      <td>170154</td>\n",
       "      <td>Home in Munich · ★4.96 · 1 bedroom · 2 beds · ...</td>\n",
       "      <td>108297</td>\n",
       "      <td>Alex</td>\n",
       "      <td>NaN</td>\n",
       "      <td>Sendling-Westpark</td>\n",
       "      <td>48.10814</td>\n",
       "      <td>11.52733</td>\n",
       "      <td>Private room</td>\n",
       "      <td>70.0</td>\n",
       "      <td>3</td>\n",
       "      <td>546</td>\n",
       "      <td>2023-12-19</td>\n",
       "      <td>3.66</td>\n",
       "      <td>1</td>\n",
       "      <td>169</td>\n",
       "      <td>25</td>\n",
       "      <td>NaN</td>\n",
       "    </tr>\n",
       "  </tbody>\n",
       "</table>\n",
       "</div>"
      ],
      "text/plain": [
       "       id                                               name  host_id  \\\n",
       "0   97945  Rental unit in Munich · ★4.84 · 1 bedroom · 1 ...   517685   \n",
       "1  114695  Rental unit in Munich · ★4.82 · 1 bedroom · 1 ...   581737   \n",
       "2  127383  Rental unit in Munich · ★4.83 · 1 bedroom · 1 ...   630556   \n",
       "3  159634  Rental unit in Munich · ★4.63 · 1 bedroom · 1 ...   765694   \n",
       "4  170154  Home in Munich · ★4.96 · 1 bedroom · 2 beds · ...   108297   \n",
       "\n",
       "  host_name  neighbourhood_group       neighbourhood  latitude  longitude  \\\n",
       "0  Angelika                  NaN              Hadern  48.11492   11.48954   \n",
       "1   Stephan                  NaN        Berg am Laim  48.12071   11.63758   \n",
       "2     Sonja                  NaN         Maxvorstadt  48.15199   11.56482   \n",
       "3    Susana                  NaN  Pasing-Obermenzing  48.13855   11.46586   \n",
       "4      Alex                  NaN   Sendling-Westpark  48.10814   11.52733   \n",
       "\n",
       "         room_type  price  minimum_nights  number_of_reviews last_review  \\\n",
       "0  Entire home/apt   80.0               2                127  2019-10-03   \n",
       "1  Entire home/apt  105.0               2                 66  2023-10-25   \n",
       "2  Entire home/apt  120.0               3                110  2023-12-12   \n",
       "3  Entire home/apt   60.0               3                 37  2023-08-09   \n",
       "4     Private room   70.0               3                546  2023-12-19   \n",
       "\n",
       "   reviews_per_month  calculated_host_listings_count  availability_365  \\\n",
       "0               0.85                               2                72   \n",
       "1               0.43                               3               166   \n",
       "2               0.72                               1                 5   \n",
       "3               0.25                               1                 5   \n",
       "4               3.66                               1               169   \n",
       "\n",
       "   number_of_reviews_ltm license  \n",
       "0                      0     NaN  \n",
       "1                     11     NaN  \n",
       "2                      3     NaN  \n",
       "3                      1     NaN  \n",
       "4                     25     NaN  "
      ]
     },
     "execution_count": 4,
     "metadata": {},
     "output_type": "execute_result"
    }
   ],
   "source": [
    "listings_df.head()"
   ]
  },
  {
   "cell_type": "code",
   "execution_count": 12,
   "metadata": {},
   "outputs": [
    {
     "data": {
      "text/plain": [
       "neighbourhood_group    6555\n",
       "license                6535\n",
       "price                  1447\n",
       "last_review            1314\n",
       "reviews_per_month      1314\n",
       "host_name                 1\n",
       "dtype: int64"
      ]
     },
     "execution_count": 12,
     "metadata": {},
     "output_type": "execute_result"
    }
   ],
   "source": [
    "listings_df.isnull().sum()[listings_df.isnull().sum() > 0].sort_values(ascending=False)"
   ]
  },
  {
   "cell_type": "code",
   "execution_count": 6,
   "metadata": {},
   "outputs": [
    {
     "data": {
      "text/html": [
       "<div>\n",
       "<style scoped>\n",
       "    .dataframe tbody tr th:only-of-type {\n",
       "        vertical-align: middle;\n",
       "    }\n",
       "\n",
       "    .dataframe tbody tr th {\n",
       "        vertical-align: top;\n",
       "    }\n",
       "\n",
       "    .dataframe thead th {\n",
       "        text-align: right;\n",
       "    }\n",
       "</style>\n",
       "<table border=\"1\" class=\"dataframe\">\n",
       "  <thead>\n",
       "    <tr style=\"text-align: right;\">\n",
       "      <th></th>\n",
       "      <th>id</th>\n",
       "      <th>listing_url</th>\n",
       "      <th>scrape_id</th>\n",
       "      <th>last_scraped</th>\n",
       "      <th>source</th>\n",
       "      <th>name</th>\n",
       "      <th>description</th>\n",
       "      <th>neighborhood_overview</th>\n",
       "      <th>picture_url</th>\n",
       "      <th>host_id</th>\n",
       "      <th>...</th>\n",
       "      <th>review_scores_communication</th>\n",
       "      <th>review_scores_location</th>\n",
       "      <th>review_scores_value</th>\n",
       "      <th>license</th>\n",
       "      <th>instant_bookable</th>\n",
       "      <th>calculated_host_listings_count</th>\n",
       "      <th>calculated_host_listings_count_entire_homes</th>\n",
       "      <th>calculated_host_listings_count_private_rooms</th>\n",
       "      <th>calculated_host_listings_count_shared_rooms</th>\n",
       "      <th>reviews_per_month</th>\n",
       "    </tr>\n",
       "  </thead>\n",
       "  <tbody>\n",
       "    <tr>\n",
       "      <th>0</th>\n",
       "      <td>14726865</td>\n",
       "      <td>https://www.airbnb.com/rooms/14726865</td>\n",
       "      <td>20231226034302</td>\n",
       "      <td>2023-12-26</td>\n",
       "      <td>previous scrape</td>\n",
       "      <td>Rental unit in Munich · 1 bedroom · 1 bed · 1 ...</td>\n",
       "      <td>NaN</td>\n",
       "      <td>NaN</td>\n",
       "      <td>https://a0.muscache.com/pictures/7d11d1db-62ce...</td>\n",
       "      <td>91678611</td>\n",
       "      <td>...</td>\n",
       "      <td>NaN</td>\n",
       "      <td>NaN</td>\n",
       "      <td>NaN</td>\n",
       "      <td>NaN</td>\n",
       "      <td>f</td>\n",
       "      <td>1</td>\n",
       "      <td>0</td>\n",
       "      <td>0</td>\n",
       "      <td>1</td>\n",
       "      <td>NaN</td>\n",
       "    </tr>\n",
       "    <tr>\n",
       "      <th>1</th>\n",
       "      <td>14976237</td>\n",
       "      <td>https://www.airbnb.com/rooms/14976237</td>\n",
       "      <td>20231226034302</td>\n",
       "      <td>2023-12-26</td>\n",
       "      <td>previous scrape</td>\n",
       "      <td>Rental unit in Munich · 1 bedroom · 3 beds · 1...</td>\n",
       "      <td>NaN</td>\n",
       "      <td>NaN</td>\n",
       "      <td>https://a0.muscache.com/pictures/9f7cdeb8-3b33...</td>\n",
       "      <td>12448910</td>\n",
       "      <td>...</td>\n",
       "      <td>NaN</td>\n",
       "      <td>NaN</td>\n",
       "      <td>NaN</td>\n",
       "      <td>NaN</td>\n",
       "      <td>f</td>\n",
       "      <td>1</td>\n",
       "      <td>1</td>\n",
       "      <td>0</td>\n",
       "      <td>0</td>\n",
       "      <td>NaN</td>\n",
       "    </tr>\n",
       "    <tr>\n",
       "      <th>2</th>\n",
       "      <td>15794305</td>\n",
       "      <td>https://www.airbnb.com/rooms/15794305</td>\n",
       "      <td>20231226034302</td>\n",
       "      <td>2023-12-26</td>\n",
       "      <td>previous scrape</td>\n",
       "      <td>Rental unit in Munich · 1 bedroom · 1 bed · 1 ...</td>\n",
       "      <td>NaN</td>\n",
       "      <td>NaN</td>\n",
       "      <td>https://a0.muscache.com/pictures/c458bf85-45bc...</td>\n",
       "      <td>44987181</td>\n",
       "      <td>...</td>\n",
       "      <td>5.0</td>\n",
       "      <td>5.0</td>\n",
       "      <td>5.0</td>\n",
       "      <td>NaN</td>\n",
       "      <td>f</td>\n",
       "      <td>1</td>\n",
       "      <td>1</td>\n",
       "      <td>0</td>\n",
       "      <td>0</td>\n",
       "      <td>0.02</td>\n",
       "    </tr>\n",
       "    <tr>\n",
       "      <th>3</th>\n",
       "      <td>40839352</td>\n",
       "      <td>https://www.airbnb.com/rooms/40839352</td>\n",
       "      <td>20231226034302</td>\n",
       "      <td>2023-12-26</td>\n",
       "      <td>previous scrape</td>\n",
       "      <td>Rental unit in Munich · 1 bedroom · 1 bed · 1 ...</td>\n",
       "      <td>NaN</td>\n",
       "      <td>NaN</td>\n",
       "      <td>https://a0.muscache.com/pictures/miso/Hosting-...</td>\n",
       "      <td>317808258</td>\n",
       "      <td>...</td>\n",
       "      <td>5.0</td>\n",
       "      <td>5.0</td>\n",
       "      <td>5.0</td>\n",
       "      <td>NaN</td>\n",
       "      <td>f</td>\n",
       "      <td>1</td>\n",
       "      <td>1</td>\n",
       "      <td>0</td>\n",
       "      <td>0</td>\n",
       "      <td>0.05</td>\n",
       "    </tr>\n",
       "    <tr>\n",
       "      <th>4</th>\n",
       "      <td>45776129</td>\n",
       "      <td>https://www.airbnb.com/rooms/45776129</td>\n",
       "      <td>20231226034302</td>\n",
       "      <td>2023-12-26</td>\n",
       "      <td>previous scrape</td>\n",
       "      <td>Rental unit in Munich · 1 bedroom · 2 beds · 1...</td>\n",
       "      <td>NaN</td>\n",
       "      <td>NaN</td>\n",
       "      <td>https://a0.muscache.com/pictures/miso/Hosting-...</td>\n",
       "      <td>87534103</td>\n",
       "      <td>...</td>\n",
       "      <td>NaN</td>\n",
       "      <td>NaN</td>\n",
       "      <td>NaN</td>\n",
       "      <td>NaN</td>\n",
       "      <td>t</td>\n",
       "      <td>3</td>\n",
       "      <td>2</td>\n",
       "      <td>1</td>\n",
       "      <td>0</td>\n",
       "      <td>NaN</td>\n",
       "    </tr>\n",
       "  </tbody>\n",
       "</table>\n",
       "<p>5 rows × 75 columns</p>\n",
       "</div>"
      ],
      "text/plain": [
       "         id                            listing_url       scrape_id  \\\n",
       "0  14726865  https://www.airbnb.com/rooms/14726865  20231226034302   \n",
       "1  14976237  https://www.airbnb.com/rooms/14976237  20231226034302   \n",
       "2  15794305  https://www.airbnb.com/rooms/15794305  20231226034302   \n",
       "3  40839352  https://www.airbnb.com/rooms/40839352  20231226034302   \n",
       "4  45776129  https://www.airbnb.com/rooms/45776129  20231226034302   \n",
       "\n",
       "  last_scraped           source  \\\n",
       "0   2023-12-26  previous scrape   \n",
       "1   2023-12-26  previous scrape   \n",
       "2   2023-12-26  previous scrape   \n",
       "3   2023-12-26  previous scrape   \n",
       "4   2023-12-26  previous scrape   \n",
       "\n",
       "                                                name  description  \\\n",
       "0  Rental unit in Munich · 1 bedroom · 1 bed · 1 ...          NaN   \n",
       "1  Rental unit in Munich · 1 bedroom · 3 beds · 1...          NaN   \n",
       "2  Rental unit in Munich · 1 bedroom · 1 bed · 1 ...          NaN   \n",
       "3  Rental unit in Munich · 1 bedroom · 1 bed · 1 ...          NaN   \n",
       "4  Rental unit in Munich · 1 bedroom · 2 beds · 1...          NaN   \n",
       "\n",
       "  neighborhood_overview                                        picture_url  \\\n",
       "0                   NaN  https://a0.muscache.com/pictures/7d11d1db-62ce...   \n",
       "1                   NaN  https://a0.muscache.com/pictures/9f7cdeb8-3b33...   \n",
       "2                   NaN  https://a0.muscache.com/pictures/c458bf85-45bc...   \n",
       "3                   NaN  https://a0.muscache.com/pictures/miso/Hosting-...   \n",
       "4                   NaN  https://a0.muscache.com/pictures/miso/Hosting-...   \n",
       "\n",
       "     host_id  ... review_scores_communication review_scores_location  \\\n",
       "0   91678611  ...                         NaN                    NaN   \n",
       "1   12448910  ...                         NaN                    NaN   \n",
       "2   44987181  ...                         5.0                    5.0   \n",
       "3  317808258  ...                         5.0                    5.0   \n",
       "4   87534103  ...                         NaN                    NaN   \n",
       "\n",
       "  review_scores_value license instant_bookable calculated_host_listings_count  \\\n",
       "0                 NaN     NaN                f                              1   \n",
       "1                 NaN     NaN                f                              1   \n",
       "2                 5.0     NaN                f                              1   \n",
       "3                 5.0     NaN                f                              1   \n",
       "4                 NaN     NaN                t                              3   \n",
       "\n",
       "  calculated_host_listings_count_entire_homes  \\\n",
       "0                                           0   \n",
       "1                                           1   \n",
       "2                                           1   \n",
       "3                                           1   \n",
       "4                                           2   \n",
       "\n",
       "  calculated_host_listings_count_private_rooms  \\\n",
       "0                                            0   \n",
       "1                                            0   \n",
       "2                                            0   \n",
       "3                                            0   \n",
       "4                                            1   \n",
       "\n",
       "  calculated_host_listings_count_shared_rooms reviews_per_month  \n",
       "0                                           1               NaN  \n",
       "1                                           0               NaN  \n",
       "2                                           0              0.02  \n",
       "3                                           0              0.05  \n",
       "4                                           0               NaN  \n",
       "\n",
       "[5 rows x 75 columns]"
      ]
     },
     "execution_count": 6,
     "metadata": {},
     "output_type": "execute_result"
    }
   ],
   "source": [
    "listingsgz_df.head()"
   ]
  },
  {
   "cell_type": "code",
   "execution_count": 11,
   "metadata": {},
   "outputs": [
    {
     "data": {
      "text/plain": [
       "description                     6555\n",
       "bathrooms                       6555\n",
       "calendar_updated                6555\n",
       "bedrooms                        6555\n",
       "neighbourhood_group_cleansed    6555\n",
       "license                         6535\n",
       "host_neighbourhood              4567\n",
       "host_about                      3988\n",
       "neighborhood_overview           3908\n",
       "neighbourhood                   3908\n",
       "host_response_rate              2310\n",
       "host_response_time              2310\n",
       "price                           1447\n",
       "has_availability                1447\n",
       "host_location                   1334\n",
       "review_scores_checkin           1314\n",
       "review_scores_accuracy          1314\n",
       "review_scores_rating            1314\n",
       "last_review                     1314\n",
       "review_scores_communication     1314\n",
       "review_scores_location          1314\n",
       "review_scores_value             1314\n",
       "first_review                    1314\n",
       "review_scores_cleanliness       1314\n",
       "reviews_per_month               1314\n",
       "host_acceptance_rate            1177\n",
       "beds                             107\n",
       "host_is_superhost                 21\n",
       "bathrooms_text                     5\n",
       "host_name                          1\n",
       "host_since                         1\n",
       "host_identity_verified             1\n",
       "host_has_profile_pic               1\n",
       "host_verifications                 1\n",
       "host_total_listings_count          1\n",
       "host_listings_count                1\n",
       "host_picture_url                   1\n",
       "host_thumbnail_url                 1\n",
       "dtype: int64"
      ]
     },
     "execution_count": 11,
     "metadata": {},
     "output_type": "execute_result"
    }
   ],
   "source": [
    "listingsgz_df.isnull().sum()[listingsgz_df.isnull().sum() > 0].sort_values(ascending=False)"
   ]
  },
  {
   "cell_type": "code",
   "execution_count": 19,
   "metadata": {},
   "outputs": [],
   "source": [
    "listingsgz_df_lesscol = listingsgz_df.drop(['license', 'host_about', 'host_response_rate', 'host_response_time', \"host_location\",\"host_thumbnail_url\",\"host_picture_url\", \"host_listings_count\", \"picture_url\",\"description\"], axis=1)"
   ]
  },
  {
   "cell_type": "code",
   "execution_count": 35,
   "metadata": {},
   "outputs": [
    {
     "data": {
      "text/plain": [
       "Index(['id', 'listing_url', 'scrape_id', 'last_scraped', 'source', 'name',\n",
       "       'neighborhood_overview', 'host_id', 'host_url', 'host_name',\n",
       "       'host_since', 'host_acceptance_rate', 'host_is_superhost',\n",
       "       'host_neighbourhood', 'host_total_listings_count', 'host_verifications',\n",
       "       'host_has_profile_pic', 'host_identity_verified', 'neighbourhood',\n",
       "       'neighbourhood_cleansed', 'neighbourhood_group_cleansed', 'latitude',\n",
       "       'longitude', 'property_type', 'room_type', 'accommodates', 'bathrooms',\n",
       "       'bathrooms_text', 'bedrooms', 'beds', 'amenities', 'price',\n",
       "       'minimum_nights', 'maximum_nights', 'minimum_minimum_nights',\n",
       "       'maximum_minimum_nights', 'minimum_maximum_nights',\n",
       "       'maximum_maximum_nights', 'minimum_nights_avg_ntm',\n",
       "       'maximum_nights_avg_ntm', 'calendar_updated', 'has_availability',\n",
       "       'availability_30', 'availability_60', 'availability_90',\n",
       "       'availability_365', 'calendar_last_scraped', 'number_of_reviews',\n",
       "       'number_of_reviews_ltm', 'number_of_reviews_l30d', 'first_review',\n",
       "       'last_review', 'review_scores_rating', 'review_scores_accuracy',\n",
       "       'review_scores_cleanliness', 'review_scores_checkin',\n",
       "       'review_scores_communication', 'review_scores_location',\n",
       "       'review_scores_value', 'instant_bookable',\n",
       "       'calculated_host_listings_count',\n",
       "       'calculated_host_listings_count_entire_homes',\n",
       "       'calculated_host_listings_count_private_rooms',\n",
       "       'calculated_host_listings_count_shared_rooms', 'reviews_per_month'],\n",
       "      dtype='object')"
      ]
     },
     "execution_count": 35,
     "metadata": {},
     "output_type": "execute_result"
    }
   ],
   "source": [
    "listingsgz_df_lesscol.columns"
   ]
  },
  {
   "cell_type": "code",
   "execution_count": 46,
   "metadata": {},
   "outputs": [
    {
     "data": {
      "text/plain": [
       "0           Shared room\n",
       "1       Entire home/apt\n",
       "2       Entire home/apt\n",
       "3       Entire home/apt\n",
       "4       Entire home/apt\n",
       "             ...       \n",
       "6550    Entire home/apt\n",
       "6551    Entire home/apt\n",
       "6552    Entire home/apt\n",
       "6553       Private room\n",
       "6554    Entire home/apt\n",
       "Name: room_type, Length: 6555, dtype: object"
      ]
     },
     "execution_count": 46,
     "metadata": {},
     "output_type": "execute_result"
    }
   ],
   "source": [
    "listingsgz_df_lesscol[\"room_type\"]"
   ]
  },
  {
   "cell_type": "code",
   "execution_count": 33,
   "metadata": {},
   "outputs": [
    {
     "data": {
      "text/plain": [
       "0          NaN\n",
       "1          NaN\n",
       "2          NaN\n",
       "3          NaN\n",
       "4          NaN\n",
       "         ...  \n",
       "6550    120.00\n",
       "6551     94.00\n",
       "6552    135.00\n",
       "6553    216.00\n",
       "6554     90.00\n",
       "Name: price, Length: 6555, dtype: object"
      ]
     },
     "execution_count": 33,
     "metadata": {},
     "output_type": "execute_result"
    }
   ],
   "source": [
    "listingsgz_df_lesscol[\"price\"].replace({'\\$': '', ',': ''}, regex=True, inplace=True)\n",
    "listingsgz_df_lesscol[\"price\"] "
   ]
  },
  {
   "cell_type": "code",
   "execution_count": 23,
   "metadata": {},
   "outputs": [
    {
     "data": {
      "text/plain": [
       "neighbourhood_group    6555\n",
       "license                6535\n",
       "price                  1447\n",
       "last_review            1314\n",
       "reviews_per_month      1314\n",
       "host_name                 1\n",
       "dtype: int64"
      ]
     },
     "execution_count": 23,
     "metadata": {},
     "output_type": "execute_result"
    }
   ],
   "source": [
    "listings_df.isnull().sum()[listings_df.isnull().sum() > 0].sort_values(ascending=False)"
   ]
  },
  {
   "cell_type": "code",
   "execution_count": 26,
   "metadata": {},
   "outputs": [],
   "source": [
    "listings_df_lesscol = listings_df.drop([\"license\", \"neighbourhood_group\", \"host_name\"], axis=1)"
   ]
  },
  {
   "cell_type": "code",
   "execution_count": 27,
   "metadata": {},
   "outputs": [
    {
     "data": {
      "text/html": [
       "<div>\n",
       "<style scoped>\n",
       "    .dataframe tbody tr th:only-of-type {\n",
       "        vertical-align: middle;\n",
       "    }\n",
       "\n",
       "    .dataframe tbody tr th {\n",
       "        vertical-align: top;\n",
       "    }\n",
       "\n",
       "    .dataframe thead th {\n",
       "        text-align: right;\n",
       "    }\n",
       "</style>\n",
       "<table border=\"1\" class=\"dataframe\">\n",
       "  <thead>\n",
       "    <tr style=\"text-align: right;\">\n",
       "      <th></th>\n",
       "      <th>id</th>\n",
       "      <th>name</th>\n",
       "      <th>host_id</th>\n",
       "      <th>neighbourhood</th>\n",
       "      <th>latitude</th>\n",
       "      <th>longitude</th>\n",
       "      <th>room_type</th>\n",
       "      <th>price</th>\n",
       "      <th>minimum_nights</th>\n",
       "      <th>number_of_reviews</th>\n",
       "      <th>last_review</th>\n",
       "      <th>reviews_per_month</th>\n",
       "      <th>calculated_host_listings_count</th>\n",
       "      <th>availability_365</th>\n",
       "      <th>number_of_reviews_ltm</th>\n",
       "    </tr>\n",
       "  </thead>\n",
       "  <tbody>\n",
       "    <tr>\n",
       "      <th>0</th>\n",
       "      <td>97945</td>\n",
       "      <td>Rental unit in Munich · ★4.84 · 1 bedroom · 1 ...</td>\n",
       "      <td>517685</td>\n",
       "      <td>Hadern</td>\n",
       "      <td>48.11492</td>\n",
       "      <td>11.48954</td>\n",
       "      <td>Entire home/apt</td>\n",
       "      <td>80.0</td>\n",
       "      <td>2</td>\n",
       "      <td>127</td>\n",
       "      <td>2019-10-03</td>\n",
       "      <td>0.85</td>\n",
       "      <td>2</td>\n",
       "      <td>72</td>\n",
       "      <td>0</td>\n",
       "    </tr>\n",
       "    <tr>\n",
       "      <th>1</th>\n",
       "      <td>114695</td>\n",
       "      <td>Rental unit in Munich · ★4.82 · 1 bedroom · 1 ...</td>\n",
       "      <td>581737</td>\n",
       "      <td>Berg am Laim</td>\n",
       "      <td>48.12071</td>\n",
       "      <td>11.63758</td>\n",
       "      <td>Entire home/apt</td>\n",
       "      <td>105.0</td>\n",
       "      <td>2</td>\n",
       "      <td>66</td>\n",
       "      <td>2023-10-25</td>\n",
       "      <td>0.43</td>\n",
       "      <td>3</td>\n",
       "      <td>166</td>\n",
       "      <td>11</td>\n",
       "    </tr>\n",
       "    <tr>\n",
       "      <th>2</th>\n",
       "      <td>127383</td>\n",
       "      <td>Rental unit in Munich · ★4.83 · 1 bedroom · 1 ...</td>\n",
       "      <td>630556</td>\n",
       "      <td>Maxvorstadt</td>\n",
       "      <td>48.15199</td>\n",
       "      <td>11.56482</td>\n",
       "      <td>Entire home/apt</td>\n",
       "      <td>120.0</td>\n",
       "      <td>3</td>\n",
       "      <td>110</td>\n",
       "      <td>2023-12-12</td>\n",
       "      <td>0.72</td>\n",
       "      <td>1</td>\n",
       "      <td>5</td>\n",
       "      <td>3</td>\n",
       "    </tr>\n",
       "    <tr>\n",
       "      <th>3</th>\n",
       "      <td>159634</td>\n",
       "      <td>Rental unit in Munich · ★4.63 · 1 bedroom · 1 ...</td>\n",
       "      <td>765694</td>\n",
       "      <td>Pasing-Obermenzing</td>\n",
       "      <td>48.13855</td>\n",
       "      <td>11.46586</td>\n",
       "      <td>Entire home/apt</td>\n",
       "      <td>60.0</td>\n",
       "      <td>3</td>\n",
       "      <td>37</td>\n",
       "      <td>2023-08-09</td>\n",
       "      <td>0.25</td>\n",
       "      <td>1</td>\n",
       "      <td>5</td>\n",
       "      <td>1</td>\n",
       "    </tr>\n",
       "    <tr>\n",
       "      <th>4</th>\n",
       "      <td>170154</td>\n",
       "      <td>Home in Munich · ★4.96 · 1 bedroom · 2 beds · ...</td>\n",
       "      <td>108297</td>\n",
       "      <td>Sendling-Westpark</td>\n",
       "      <td>48.10814</td>\n",
       "      <td>11.52733</td>\n",
       "      <td>Private room</td>\n",
       "      <td>70.0</td>\n",
       "      <td>3</td>\n",
       "      <td>546</td>\n",
       "      <td>2023-12-19</td>\n",
       "      <td>3.66</td>\n",
       "      <td>1</td>\n",
       "      <td>169</td>\n",
       "      <td>25</td>\n",
       "    </tr>\n",
       "  </tbody>\n",
       "</table>\n",
       "</div>"
      ],
      "text/plain": [
       "       id                                               name  host_id  \\\n",
       "0   97945  Rental unit in Munich · ★4.84 · 1 bedroom · 1 ...   517685   \n",
       "1  114695  Rental unit in Munich · ★4.82 · 1 bedroom · 1 ...   581737   \n",
       "2  127383  Rental unit in Munich · ★4.83 · 1 bedroom · 1 ...   630556   \n",
       "3  159634  Rental unit in Munich · ★4.63 · 1 bedroom · 1 ...   765694   \n",
       "4  170154  Home in Munich · ★4.96 · 1 bedroom · 2 beds · ...   108297   \n",
       "\n",
       "        neighbourhood  latitude  longitude        room_type  price  \\\n",
       "0              Hadern  48.11492   11.48954  Entire home/apt   80.0   \n",
       "1        Berg am Laim  48.12071   11.63758  Entire home/apt  105.0   \n",
       "2         Maxvorstadt  48.15199   11.56482  Entire home/apt  120.0   \n",
       "3  Pasing-Obermenzing  48.13855   11.46586  Entire home/apt   60.0   \n",
       "4   Sendling-Westpark  48.10814   11.52733     Private room   70.0   \n",
       "\n",
       "   minimum_nights  number_of_reviews last_review  reviews_per_month  \\\n",
       "0               2                127  2019-10-03               0.85   \n",
       "1               2                 66  2023-10-25               0.43   \n",
       "2               3                110  2023-12-12               0.72   \n",
       "3               3                 37  2023-08-09               0.25   \n",
       "4               3                546  2023-12-19               3.66   \n",
       "\n",
       "   calculated_host_listings_count  availability_365  number_of_reviews_ltm  \n",
       "0                               2                72                      0  \n",
       "1                               3               166                     11  \n",
       "2                               1                 5                      3  \n",
       "3                               1                 5                      1  \n",
       "4                               1               169                     25  "
      ]
     },
     "execution_count": 27,
     "metadata": {},
     "output_type": "execute_result"
    }
   ],
   "source": [
    "listings_df_lesscol.head()  "
   ]
  },
  {
   "cell_type": "code",
   "execution_count": 60,
   "metadata": {},
   "outputs": [
    {
     "data": {
      "text/plain": [
       "np.int64(1447)"
      ]
     },
     "execution_count": 60,
     "metadata": {},
     "output_type": "execute_result"
    }
   ],
   "source": [
    "listings_df_lesscol[\"price\"].isnull().sum()\n"
   ]
  },
  {
   "cell_type": "code",
   "execution_count": 61,
   "metadata": {},
   "outputs": [
    {
     "data": {
      "text/plain": [
       "np.int64(1447)"
      ]
     },
     "execution_count": 61,
     "metadata": {},
     "output_type": "execute_result"
    }
   ],
   "source": [
    "listingsgz_df_lesscol[\"price\"].isnull().sum() "
   ]
  },
  {
   "cell_type": "markdown",
   "metadata": {},
   "source": [
    "#### Valores nulos price en Listings"
   ]
  },
  {
   "cell_type": "code",
   "execution_count": 62,
   "metadata": {},
   "outputs": [
    {
     "data": {
      "text/plain": [
       "np.float64(112.0)"
      ]
     },
     "execution_count": 62,
     "metadata": {},
     "output_type": "execute_result"
    }
   ],
   "source": [
    "listings_df_lesscol[\"price\"].median()"
   ]
  },
  {
   "cell_type": "code",
   "execution_count": 65,
   "metadata": {},
   "outputs": [
    {
     "data": {
      "text/plain": [
       "room_type\n",
       "Entire home/apt    130.0\n",
       "Hotel room         131.0\n",
       "Private room        80.0\n",
       "Shared room         70.0\n",
       "Name: price, dtype: float64"
      ]
     },
     "execution_count": 65,
     "metadata": {},
     "output_type": "execute_result"
    }
   ],
   "source": [
    "median_prices_listings = listings_df_lesscol.groupby('room_type')['price'].median()\n",
    "median_prices_listings"
   ]
  },
  {
   "cell_type": "code",
   "execution_count": 66,
   "metadata": {},
   "outputs": [
    {
     "data": {
      "text/plain": [
       "np.int64(1447)"
      ]
     },
     "execution_count": 66,
     "metadata": {},
     "output_type": "execute_result"
    }
   ],
   "source": [
    "listings_df_lesscol[\"price\"].isnull().sum()"
   ]
  },
  {
   "cell_type": "code",
   "execution_count": 67,
   "metadata": {},
   "outputs": [],
   "source": [
    "# Calcular la mediana de cada room_type\n",
    "median_prices = median_prices_listings.to_dict()\n",
    "\n",
    "# Completar los valores nulos en la columna price con la mediana correspondiente a su room_type\n",
    "listings_df_lesscol['price'] = listings_df_lesscol['price'].fillna(listings_df_lesscol['room_type'].map(median_prices))"
   ]
  },
  {
   "cell_type": "code",
   "execution_count": 68,
   "metadata": {},
   "outputs": [
    {
     "data": {
      "text/plain": [
       "np.int64(0)"
      ]
     },
     "execution_count": 68,
     "metadata": {},
     "output_type": "execute_result"
    }
   ],
   "source": [
    "listings_df_lesscol[\"price\"].isnull().sum()"
   ]
  },
  {
   "cell_type": "code",
   "execution_count": 71,
   "metadata": {},
   "outputs": [
    {
     "data": {
      "text/html": [
       "<div>\n",
       "<style scoped>\n",
       "    .dataframe tbody tr th:only-of-type {\n",
       "        vertical-align: middle;\n",
       "    }\n",
       "\n",
       "    .dataframe tbody tr th {\n",
       "        vertical-align: top;\n",
       "    }\n",
       "\n",
       "    .dataframe thead th {\n",
       "        text-align: right;\n",
       "    }\n",
       "</style>\n",
       "<table border=\"1\" class=\"dataframe\">\n",
       "  <thead>\n",
       "    <tr style=\"text-align: right;\">\n",
       "      <th></th>\n",
       "      <th>price</th>\n",
       "      <th>room_type</th>\n",
       "    </tr>\n",
       "  </thead>\n",
       "  <tbody>\n",
       "    <tr>\n",
       "      <th>0</th>\n",
       "      <td>80.0</td>\n",
       "      <td>Entire home/apt</td>\n",
       "    </tr>\n",
       "    <tr>\n",
       "      <th>1</th>\n",
       "      <td>105.0</td>\n",
       "      <td>Entire home/apt</td>\n",
       "    </tr>\n",
       "    <tr>\n",
       "      <th>2</th>\n",
       "      <td>120.0</td>\n",
       "      <td>Entire home/apt</td>\n",
       "    </tr>\n",
       "    <tr>\n",
       "      <th>3</th>\n",
       "      <td>60.0</td>\n",
       "      <td>Entire home/apt</td>\n",
       "    </tr>\n",
       "    <tr>\n",
       "      <th>4</th>\n",
       "      <td>70.0</td>\n",
       "      <td>Private room</td>\n",
       "    </tr>\n",
       "    <tr>\n",
       "      <th>...</th>\n",
       "      <td>...</td>\n",
       "      <td>...</td>\n",
       "    </tr>\n",
       "    <tr>\n",
       "      <th>6550</th>\n",
       "      <td>80.0</td>\n",
       "      <td>Entire home/apt</td>\n",
       "    </tr>\n",
       "    <tr>\n",
       "      <th>6551</th>\n",
       "      <td>96.0</td>\n",
       "      <td>Entire home/apt</td>\n",
       "    </tr>\n",
       "    <tr>\n",
       "      <th>6552</th>\n",
       "      <td>76.0</td>\n",
       "      <td>Entire home/apt</td>\n",
       "    </tr>\n",
       "    <tr>\n",
       "      <th>6553</th>\n",
       "      <td>74.0</td>\n",
       "      <td>Entire home/apt</td>\n",
       "    </tr>\n",
       "    <tr>\n",
       "      <th>6554</th>\n",
       "      <td>68.0</td>\n",
       "      <td>Entire home/apt</td>\n",
       "    </tr>\n",
       "  </tbody>\n",
       "</table>\n",
       "<p>6555 rows × 2 columns</p>\n",
       "</div>"
      ],
      "text/plain": [
       "      price        room_type\n",
       "0      80.0  Entire home/apt\n",
       "1     105.0  Entire home/apt\n",
       "2     120.0  Entire home/apt\n",
       "3      60.0  Entire home/apt\n",
       "4      70.0     Private room\n",
       "...     ...              ...\n",
       "6550   80.0  Entire home/apt\n",
       "6551   96.0  Entire home/apt\n",
       "6552   76.0  Entire home/apt\n",
       "6553   74.0  Entire home/apt\n",
       "6554   68.0  Entire home/apt\n",
       "\n",
       "[6555 rows x 2 columns]"
      ]
     },
     "execution_count": 71,
     "metadata": {},
     "output_type": "execute_result"
    }
   ],
   "source": [
    "listings_df_lesscol[['price', 'room_type']]"
   ]
  },
  {
   "cell_type": "code",
   "execution_count": 72,
   "metadata": {},
   "outputs": [
    {
     "data": {
      "text/plain": [
       "np.float64(123.0)"
      ]
     },
     "execution_count": 72,
     "metadata": {},
     "output_type": "execute_result"
    }
   ],
   "source": [
    "listings_df_lesscol[\"price\"].median()"
   ]
  }
 ],
 "metadata": {
  "kernelspec": {
   "display_name": "airbnb",
   "language": "python",
   "name": "python3"
  },
  "language_info": {
   "codemirror_mode": {
    "name": "ipython",
    "version": 3
   },
   "file_extension": ".py",
   "mimetype": "text/x-python",
   "name": "python",
   "nbconvert_exporter": "python",
   "pygments_lexer": "ipython3",
   "version": "3.11.9"
  }
 },
 "nbformat": 4,
 "nbformat_minor": 2
}
