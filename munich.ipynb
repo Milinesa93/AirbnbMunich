{
 "cells": [
  {
   "cell_type": "code",
   "execution_count": 1,
   "metadata": {},
   "outputs": [],
   "source": [
    "import pandas as pd\n",
    "import numpy as np\n",
    "import matplotlib.pyplot as plt\n",
    "import seaborn as sns\n",
    "import os\n",
    "import requests\n",
    "import json\n",
    "import geopy.distance\n",
    "import geopandas as gpd\n",
    "from shapely.geometry import Point, Polygon\n"
   ]
  },
  {
   "cell_type": "code",
   "execution_count": 2,
   "metadata": {},
   "outputs": [],
   "source": [
    "# Load the data\n",
    "listings_df = pd.read_csv('data/listings.csv')\n",
    "listingsgz_df = pd.read_csv('data/listings.csv.gz')\n",
    "reviews_df = pd.read_csv('data/reviews.csv')\n",
    "calendargz_df = pd.read_csv('data/calendar.csv.gz')\n",
    "neighbourhoods_df = pd.read_csv('data/neighbourhoods.csv')\n",
    "reviewsgz_df = pd.read_csv('data/reviews.csv.gz')\n",
    "neighbourhoods_df_geojson = gpd.read_file('data/neighbourhoods.geojson')"
   ]
  },
  {
   "cell_type": "markdown",
   "metadata": {},
   "source": [
    "#### Un grupo de inversionistas, solicitan un estudio sobre la ciudad de Munich cercano a Theresienwiese, donde se celebra todos los años el OctokerFest. Creen que invertir en esta zona, les dara mayores ganancias a futuro que en otras zonas de Munich. El objetivo de adquirir la propiedad, es convertirlo en un Airbnb, quieren determinar segun los resultados si será para compartir o departamento entero, según cual da mayores ganancias.\n",
    "##### Se les brindará la informacion de los barrios más cercanos a este punto, con mayores precios de alquiler por Airbnb junto con el tipo de alquiler (compartido o entero)."
   ]
  },
  {
   "cell_type": "code",
   "execution_count": 3,
   "metadata": {},
   "outputs": [
    {
     "name": "stdout",
     "output_type": "stream",
     "text": [
      "Las columnas 'id' en listings_df y listingsgz_df corresponden al mismo.\n"
     ]
    }
   ],
   "source": [
    "# Obtener los valores únicos de la columna \"id\" en listings_df\n",
    "listings_df_ids = listings_df['id'].unique()\n",
    "\n",
    "# Obtener los valores únicos de la columna \"id\" en listingsgz_df\n",
    "listingsgz_df_ids = listingsgz_df['id'].unique()\n",
    "\n",
    "# Comparar los valores únicos de ambas columnas\n",
    "if set(listings_df_ids) == set(listingsgz_df_ids):\n",
    "    print(\"Las columnas 'id' en listings_df y listingsgz_df corresponden al mismo.\")\n",
    "else:\n",
    "    print(\"Las columnas 'id' en listings_df y listingsgz_df no corresponden al mismo.\")"
   ]
  },
  {
   "cell_type": "code",
   "execution_count": 4,
   "metadata": {},
   "outputs": [
    {
     "data": {
      "text/html": [
       "<div>\n",
       "<style scoped>\n",
       "    .dataframe tbody tr th:only-of-type {\n",
       "        vertical-align: middle;\n",
       "    }\n",
       "\n",
       "    .dataframe tbody tr th {\n",
       "        vertical-align: top;\n",
       "    }\n",
       "\n",
       "    .dataframe thead th {\n",
       "        text-align: right;\n",
       "    }\n",
       "</style>\n",
       "<table border=\"1\" class=\"dataframe\">\n",
       "  <thead>\n",
       "    <tr style=\"text-align: right;\">\n",
       "      <th></th>\n",
       "      <th>id</th>\n",
       "      <th>listing_url</th>\n",
       "      <th>scrape_id</th>\n",
       "      <th>last_scraped</th>\n",
       "      <th>source</th>\n",
       "      <th>name</th>\n",
       "      <th>description</th>\n",
       "      <th>neighborhood_overview</th>\n",
       "      <th>picture_url</th>\n",
       "      <th>host_id</th>\n",
       "      <th>...</th>\n",
       "      <th>review_scores_communication</th>\n",
       "      <th>review_scores_location</th>\n",
       "      <th>review_scores_value</th>\n",
       "      <th>license</th>\n",
       "      <th>instant_bookable</th>\n",
       "      <th>calculated_host_listings_count</th>\n",
       "      <th>calculated_host_listings_count_entire_homes</th>\n",
       "      <th>calculated_host_listings_count_private_rooms</th>\n",
       "      <th>calculated_host_listings_count_shared_rooms</th>\n",
       "      <th>reviews_per_month</th>\n",
       "    </tr>\n",
       "  </thead>\n",
       "  <tbody>\n",
       "    <tr>\n",
       "      <th>1070</th>\n",
       "      <td>35144421</td>\n",
       "      <td>https://www.airbnb.com/rooms/35144421</td>\n",
       "      <td>20231226034302</td>\n",
       "      <td>2023-12-26</td>\n",
       "      <td>previous scrape</td>\n",
       "      <td>Rental unit in Munich · ★4.38 · Studio · 1 bed...</td>\n",
       "      <td>NaN</td>\n",
       "      <td>Inder Nachbarschaft befinden sich viele Restau...</td>\n",
       "      <td>https://a0.muscache.com/pictures/0874d86e-a713...</td>\n",
       "      <td>205832270</td>\n",
       "      <td>...</td>\n",
       "      <td>4.38</td>\n",
       "      <td>4.13</td>\n",
       "      <td>4.13</td>\n",
       "      <td>NaN</td>\n",
       "      <td>t</td>\n",
       "      <td>33</td>\n",
       "      <td>33</td>\n",
       "      <td>0</td>\n",
       "      <td>0</td>\n",
       "      <td>0.15</td>\n",
       "    </tr>\n",
       "  </tbody>\n",
       "</table>\n",
       "<p>1 rows × 75 columns</p>\n",
       "</div>"
      ],
      "text/plain": [
       "            id                            listing_url       scrape_id  \\\n",
       "1070  35144421  https://www.airbnb.com/rooms/35144421  20231226034302   \n",
       "\n",
       "     last_scraped           source  \\\n",
       "1070   2023-12-26  previous scrape   \n",
       "\n",
       "                                                   name  description  \\\n",
       "1070  Rental unit in Munich · ★4.38 · Studio · 1 bed...          NaN   \n",
       "\n",
       "                                  neighborhood_overview  \\\n",
       "1070  Inder Nachbarschaft befinden sich viele Restau...   \n",
       "\n",
       "                                            picture_url    host_id  ...  \\\n",
       "1070  https://a0.muscache.com/pictures/0874d86e-a713...  205832270  ...   \n",
       "\n",
       "     review_scores_communication review_scores_location review_scores_value  \\\n",
       "1070                        4.38                   4.13                4.13   \n",
       "\n",
       "     license instant_bookable calculated_host_listings_count  \\\n",
       "1070     NaN                t                             33   \n",
       "\n",
       "     calculated_host_listings_count_entire_homes  \\\n",
       "1070                                          33   \n",
       "\n",
       "     calculated_host_listings_count_private_rooms  \\\n",
       "1070                                            0   \n",
       "\n",
       "     calculated_host_listings_count_shared_rooms reviews_per_month  \n",
       "1070                                           0              0.15  \n",
       "\n",
       "[1 rows x 75 columns]"
      ]
     },
     "execution_count": 4,
     "metadata": {},
     "output_type": "execute_result"
    }
   ],
   "source": [
    "sorted_listings_df = listingsgz_df.sort_values(by='price', ascending=False)\n",
    "sorted_listings_df.head(1)"
   ]
  },
  {
   "cell_type": "markdown",
   "metadata": {},
   "source": []
  },
  {
   "cell_type": "code",
   "execution_count": 5,
   "metadata": {},
   "outputs": [
    {
     "data": {
      "text/html": [
       "<div>\n",
       "<style scoped>\n",
       "    .dataframe tbody tr th:only-of-type {\n",
       "        vertical-align: middle;\n",
       "    }\n",
       "\n",
       "    .dataframe tbody tr th {\n",
       "        vertical-align: top;\n",
       "    }\n",
       "\n",
       "    .dataframe thead th {\n",
       "        text-align: right;\n",
       "    }\n",
       "</style>\n",
       "<table border=\"1\" class=\"dataframe\">\n",
       "  <thead>\n",
       "    <tr style=\"text-align: right;\">\n",
       "      <th></th>\n",
       "      <th>id</th>\n",
       "      <th>name</th>\n",
       "      <th>host_id</th>\n",
       "      <th>host_name</th>\n",
       "      <th>neighbourhood_group</th>\n",
       "      <th>neighbourhood</th>\n",
       "      <th>latitude</th>\n",
       "      <th>longitude</th>\n",
       "      <th>room_type</th>\n",
       "      <th>price</th>\n",
       "      <th>minimum_nights</th>\n",
       "      <th>number_of_reviews</th>\n",
       "      <th>last_review</th>\n",
       "      <th>reviews_per_month</th>\n",
       "      <th>calculated_host_listings_count</th>\n",
       "      <th>availability_365</th>\n",
       "      <th>number_of_reviews_ltm</th>\n",
       "      <th>license</th>\n",
       "    </tr>\n",
       "  </thead>\n",
       "  <tbody>\n",
       "    <tr>\n",
       "      <th>0</th>\n",
       "      <td>97945</td>\n",
       "      <td>Rental unit in Munich · ★4.84 · 1 bedroom · 1 ...</td>\n",
       "      <td>517685</td>\n",
       "      <td>Angelika</td>\n",
       "      <td>NaN</td>\n",
       "      <td>Hadern</td>\n",
       "      <td>48.11492</td>\n",
       "      <td>11.48954</td>\n",
       "      <td>Entire home/apt</td>\n",
       "      <td>80.0</td>\n",
       "      <td>2</td>\n",
       "      <td>127</td>\n",
       "      <td>2019-10-03</td>\n",
       "      <td>0.85</td>\n",
       "      <td>2</td>\n",
       "      <td>72</td>\n",
       "      <td>0</td>\n",
       "      <td>NaN</td>\n",
       "    </tr>\n",
       "    <tr>\n",
       "      <th>1</th>\n",
       "      <td>114695</td>\n",
       "      <td>Rental unit in Munich · ★4.82 · 1 bedroom · 1 ...</td>\n",
       "      <td>581737</td>\n",
       "      <td>Stephan</td>\n",
       "      <td>NaN</td>\n",
       "      <td>Berg am Laim</td>\n",
       "      <td>48.12071</td>\n",
       "      <td>11.63758</td>\n",
       "      <td>Entire home/apt</td>\n",
       "      <td>105.0</td>\n",
       "      <td>2</td>\n",
       "      <td>66</td>\n",
       "      <td>2023-10-25</td>\n",
       "      <td>0.43</td>\n",
       "      <td>3</td>\n",
       "      <td>166</td>\n",
       "      <td>11</td>\n",
       "      <td>NaN</td>\n",
       "    </tr>\n",
       "    <tr>\n",
       "      <th>2</th>\n",
       "      <td>127383</td>\n",
       "      <td>Rental unit in Munich · ★4.83 · 1 bedroom · 1 ...</td>\n",
       "      <td>630556</td>\n",
       "      <td>Sonja</td>\n",
       "      <td>NaN</td>\n",
       "      <td>Maxvorstadt</td>\n",
       "      <td>48.15199</td>\n",
       "      <td>11.56482</td>\n",
       "      <td>Entire home/apt</td>\n",
       "      <td>120.0</td>\n",
       "      <td>3</td>\n",
       "      <td>110</td>\n",
       "      <td>2023-12-12</td>\n",
       "      <td>0.72</td>\n",
       "      <td>1</td>\n",
       "      <td>5</td>\n",
       "      <td>3</td>\n",
       "      <td>NaN</td>\n",
       "    </tr>\n",
       "    <tr>\n",
       "      <th>3</th>\n",
       "      <td>159634</td>\n",
       "      <td>Rental unit in Munich · ★4.63 · 1 bedroom · 1 ...</td>\n",
       "      <td>765694</td>\n",
       "      <td>Susana</td>\n",
       "      <td>NaN</td>\n",
       "      <td>Pasing-Obermenzing</td>\n",
       "      <td>48.13855</td>\n",
       "      <td>11.46586</td>\n",
       "      <td>Entire home/apt</td>\n",
       "      <td>60.0</td>\n",
       "      <td>3</td>\n",
       "      <td>37</td>\n",
       "      <td>2023-08-09</td>\n",
       "      <td>0.25</td>\n",
       "      <td>1</td>\n",
       "      <td>5</td>\n",
       "      <td>1</td>\n",
       "      <td>NaN</td>\n",
       "    </tr>\n",
       "    <tr>\n",
       "      <th>4</th>\n",
       "      <td>170154</td>\n",
       "      <td>Home in Munich · ★4.96 · 1 bedroom · 2 beds · ...</td>\n",
       "      <td>108297</td>\n",
       "      <td>Alex</td>\n",
       "      <td>NaN</td>\n",
       "      <td>Sendling-Westpark</td>\n",
       "      <td>48.10814</td>\n",
       "      <td>11.52733</td>\n",
       "      <td>Private room</td>\n",
       "      <td>70.0</td>\n",
       "      <td>3</td>\n",
       "      <td>546</td>\n",
       "      <td>2023-12-19</td>\n",
       "      <td>3.66</td>\n",
       "      <td>1</td>\n",
       "      <td>169</td>\n",
       "      <td>25</td>\n",
       "      <td>NaN</td>\n",
       "    </tr>\n",
       "  </tbody>\n",
       "</table>\n",
       "</div>"
      ],
      "text/plain": [
       "       id                                               name  host_id  \\\n",
       "0   97945  Rental unit in Munich · ★4.84 · 1 bedroom · 1 ...   517685   \n",
       "1  114695  Rental unit in Munich · ★4.82 · 1 bedroom · 1 ...   581737   \n",
       "2  127383  Rental unit in Munich · ★4.83 · 1 bedroom · 1 ...   630556   \n",
       "3  159634  Rental unit in Munich · ★4.63 · 1 bedroom · 1 ...   765694   \n",
       "4  170154  Home in Munich · ★4.96 · 1 bedroom · 2 beds · ...   108297   \n",
       "\n",
       "  host_name  neighbourhood_group       neighbourhood  latitude  longitude  \\\n",
       "0  Angelika                  NaN              Hadern  48.11492   11.48954   \n",
       "1   Stephan                  NaN        Berg am Laim  48.12071   11.63758   \n",
       "2     Sonja                  NaN         Maxvorstadt  48.15199   11.56482   \n",
       "3    Susana                  NaN  Pasing-Obermenzing  48.13855   11.46586   \n",
       "4      Alex                  NaN   Sendling-Westpark  48.10814   11.52733   \n",
       "\n",
       "         room_type  price  minimum_nights  number_of_reviews last_review  \\\n",
       "0  Entire home/apt   80.0               2                127  2019-10-03   \n",
       "1  Entire home/apt  105.0               2                 66  2023-10-25   \n",
       "2  Entire home/apt  120.0               3                110  2023-12-12   \n",
       "3  Entire home/apt   60.0               3                 37  2023-08-09   \n",
       "4     Private room   70.0               3                546  2023-12-19   \n",
       "\n",
       "   reviews_per_month  calculated_host_listings_count  availability_365  \\\n",
       "0               0.85                               2                72   \n",
       "1               0.43                               3               166   \n",
       "2               0.72                               1                 5   \n",
       "3               0.25                               1                 5   \n",
       "4               3.66                               1               169   \n",
       "\n",
       "   number_of_reviews_ltm license  \n",
       "0                      0     NaN  \n",
       "1                     11     NaN  \n",
       "2                      3     NaN  \n",
       "3                      1     NaN  \n",
       "4                     25     NaN  "
      ]
     },
     "execution_count": 5,
     "metadata": {},
     "output_type": "execute_result"
    }
   ],
   "source": [
    "listings_df.head()"
   ]
  },
  {
   "cell_type": "code",
   "execution_count": 6,
   "metadata": {},
   "outputs": [
    {
     "data": {
      "text/plain": [
       "neighbourhood_group    6555\n",
       "license                6535\n",
       "price                  1447\n",
       "last_review            1314\n",
       "reviews_per_month      1314\n",
       "host_name                 1\n",
       "dtype: int64"
      ]
     },
     "execution_count": 6,
     "metadata": {},
     "output_type": "execute_result"
    }
   ],
   "source": [
    "listings_df.isnull().sum()[listings_df.isnull().sum() > 0].sort_values(ascending=False)"
   ]
  },
  {
   "cell_type": "code",
   "execution_count": 7,
   "metadata": {},
   "outputs": [
    {
     "data": {
      "text/html": [
       "<div>\n",
       "<style scoped>\n",
       "    .dataframe tbody tr th:only-of-type {\n",
       "        vertical-align: middle;\n",
       "    }\n",
       "\n",
       "    .dataframe tbody tr th {\n",
       "        vertical-align: top;\n",
       "    }\n",
       "\n",
       "    .dataframe thead th {\n",
       "        text-align: right;\n",
       "    }\n",
       "</style>\n",
       "<table border=\"1\" class=\"dataframe\">\n",
       "  <thead>\n",
       "    <tr style=\"text-align: right;\">\n",
       "      <th></th>\n",
       "      <th>id</th>\n",
       "      <th>listing_url</th>\n",
       "      <th>scrape_id</th>\n",
       "      <th>last_scraped</th>\n",
       "      <th>source</th>\n",
       "      <th>name</th>\n",
       "      <th>description</th>\n",
       "      <th>neighborhood_overview</th>\n",
       "      <th>picture_url</th>\n",
       "      <th>host_id</th>\n",
       "      <th>...</th>\n",
       "      <th>review_scores_communication</th>\n",
       "      <th>review_scores_location</th>\n",
       "      <th>review_scores_value</th>\n",
       "      <th>license</th>\n",
       "      <th>instant_bookable</th>\n",
       "      <th>calculated_host_listings_count</th>\n",
       "      <th>calculated_host_listings_count_entire_homes</th>\n",
       "      <th>calculated_host_listings_count_private_rooms</th>\n",
       "      <th>calculated_host_listings_count_shared_rooms</th>\n",
       "      <th>reviews_per_month</th>\n",
       "    </tr>\n",
       "  </thead>\n",
       "  <tbody>\n",
       "    <tr>\n",
       "      <th>0</th>\n",
       "      <td>14726865</td>\n",
       "      <td>https://www.airbnb.com/rooms/14726865</td>\n",
       "      <td>20231226034302</td>\n",
       "      <td>2023-12-26</td>\n",
       "      <td>previous scrape</td>\n",
       "      <td>Rental unit in Munich · 1 bedroom · 1 bed · 1 ...</td>\n",
       "      <td>NaN</td>\n",
       "      <td>NaN</td>\n",
       "      <td>https://a0.muscache.com/pictures/7d11d1db-62ce...</td>\n",
       "      <td>91678611</td>\n",
       "      <td>...</td>\n",
       "      <td>NaN</td>\n",
       "      <td>NaN</td>\n",
       "      <td>NaN</td>\n",
       "      <td>NaN</td>\n",
       "      <td>f</td>\n",
       "      <td>1</td>\n",
       "      <td>0</td>\n",
       "      <td>0</td>\n",
       "      <td>1</td>\n",
       "      <td>NaN</td>\n",
       "    </tr>\n",
       "    <tr>\n",
       "      <th>1</th>\n",
       "      <td>14976237</td>\n",
       "      <td>https://www.airbnb.com/rooms/14976237</td>\n",
       "      <td>20231226034302</td>\n",
       "      <td>2023-12-26</td>\n",
       "      <td>previous scrape</td>\n",
       "      <td>Rental unit in Munich · 1 bedroom · 3 beds · 1...</td>\n",
       "      <td>NaN</td>\n",
       "      <td>NaN</td>\n",
       "      <td>https://a0.muscache.com/pictures/9f7cdeb8-3b33...</td>\n",
       "      <td>12448910</td>\n",
       "      <td>...</td>\n",
       "      <td>NaN</td>\n",
       "      <td>NaN</td>\n",
       "      <td>NaN</td>\n",
       "      <td>NaN</td>\n",
       "      <td>f</td>\n",
       "      <td>1</td>\n",
       "      <td>1</td>\n",
       "      <td>0</td>\n",
       "      <td>0</td>\n",
       "      <td>NaN</td>\n",
       "    </tr>\n",
       "    <tr>\n",
       "      <th>2</th>\n",
       "      <td>15794305</td>\n",
       "      <td>https://www.airbnb.com/rooms/15794305</td>\n",
       "      <td>20231226034302</td>\n",
       "      <td>2023-12-26</td>\n",
       "      <td>previous scrape</td>\n",
       "      <td>Rental unit in Munich · 1 bedroom · 1 bed · 1 ...</td>\n",
       "      <td>NaN</td>\n",
       "      <td>NaN</td>\n",
       "      <td>https://a0.muscache.com/pictures/c458bf85-45bc...</td>\n",
       "      <td>44987181</td>\n",
       "      <td>...</td>\n",
       "      <td>5.0</td>\n",
       "      <td>5.0</td>\n",
       "      <td>5.0</td>\n",
       "      <td>NaN</td>\n",
       "      <td>f</td>\n",
       "      <td>1</td>\n",
       "      <td>1</td>\n",
       "      <td>0</td>\n",
       "      <td>0</td>\n",
       "      <td>0.02</td>\n",
       "    </tr>\n",
       "    <tr>\n",
       "      <th>3</th>\n",
       "      <td>40839352</td>\n",
       "      <td>https://www.airbnb.com/rooms/40839352</td>\n",
       "      <td>20231226034302</td>\n",
       "      <td>2023-12-26</td>\n",
       "      <td>previous scrape</td>\n",
       "      <td>Rental unit in Munich · 1 bedroom · 1 bed · 1 ...</td>\n",
       "      <td>NaN</td>\n",
       "      <td>NaN</td>\n",
       "      <td>https://a0.muscache.com/pictures/miso/Hosting-...</td>\n",
       "      <td>317808258</td>\n",
       "      <td>...</td>\n",
       "      <td>5.0</td>\n",
       "      <td>5.0</td>\n",
       "      <td>5.0</td>\n",
       "      <td>NaN</td>\n",
       "      <td>f</td>\n",
       "      <td>1</td>\n",
       "      <td>1</td>\n",
       "      <td>0</td>\n",
       "      <td>0</td>\n",
       "      <td>0.05</td>\n",
       "    </tr>\n",
       "    <tr>\n",
       "      <th>4</th>\n",
       "      <td>45776129</td>\n",
       "      <td>https://www.airbnb.com/rooms/45776129</td>\n",
       "      <td>20231226034302</td>\n",
       "      <td>2023-12-26</td>\n",
       "      <td>previous scrape</td>\n",
       "      <td>Rental unit in Munich · 1 bedroom · 2 beds · 1...</td>\n",
       "      <td>NaN</td>\n",
       "      <td>NaN</td>\n",
       "      <td>https://a0.muscache.com/pictures/miso/Hosting-...</td>\n",
       "      <td>87534103</td>\n",
       "      <td>...</td>\n",
       "      <td>NaN</td>\n",
       "      <td>NaN</td>\n",
       "      <td>NaN</td>\n",
       "      <td>NaN</td>\n",
       "      <td>t</td>\n",
       "      <td>3</td>\n",
       "      <td>2</td>\n",
       "      <td>1</td>\n",
       "      <td>0</td>\n",
       "      <td>NaN</td>\n",
       "    </tr>\n",
       "  </tbody>\n",
       "</table>\n",
       "<p>5 rows × 75 columns</p>\n",
       "</div>"
      ],
      "text/plain": [
       "         id                            listing_url       scrape_id  \\\n",
       "0  14726865  https://www.airbnb.com/rooms/14726865  20231226034302   \n",
       "1  14976237  https://www.airbnb.com/rooms/14976237  20231226034302   \n",
       "2  15794305  https://www.airbnb.com/rooms/15794305  20231226034302   \n",
       "3  40839352  https://www.airbnb.com/rooms/40839352  20231226034302   \n",
       "4  45776129  https://www.airbnb.com/rooms/45776129  20231226034302   \n",
       "\n",
       "  last_scraped           source  \\\n",
       "0   2023-12-26  previous scrape   \n",
       "1   2023-12-26  previous scrape   \n",
       "2   2023-12-26  previous scrape   \n",
       "3   2023-12-26  previous scrape   \n",
       "4   2023-12-26  previous scrape   \n",
       "\n",
       "                                                name  description  \\\n",
       "0  Rental unit in Munich · 1 bedroom · 1 bed · 1 ...          NaN   \n",
       "1  Rental unit in Munich · 1 bedroom · 3 beds · 1...          NaN   \n",
       "2  Rental unit in Munich · 1 bedroom · 1 bed · 1 ...          NaN   \n",
       "3  Rental unit in Munich · 1 bedroom · 1 bed · 1 ...          NaN   \n",
       "4  Rental unit in Munich · 1 bedroom · 2 beds · 1...          NaN   \n",
       "\n",
       "  neighborhood_overview                                        picture_url  \\\n",
       "0                   NaN  https://a0.muscache.com/pictures/7d11d1db-62ce...   \n",
       "1                   NaN  https://a0.muscache.com/pictures/9f7cdeb8-3b33...   \n",
       "2                   NaN  https://a0.muscache.com/pictures/c458bf85-45bc...   \n",
       "3                   NaN  https://a0.muscache.com/pictures/miso/Hosting-...   \n",
       "4                   NaN  https://a0.muscache.com/pictures/miso/Hosting-...   \n",
       "\n",
       "     host_id  ... review_scores_communication review_scores_location  \\\n",
       "0   91678611  ...                         NaN                    NaN   \n",
       "1   12448910  ...                         NaN                    NaN   \n",
       "2   44987181  ...                         5.0                    5.0   \n",
       "3  317808258  ...                         5.0                    5.0   \n",
       "4   87534103  ...                         NaN                    NaN   \n",
       "\n",
       "  review_scores_value license instant_bookable calculated_host_listings_count  \\\n",
       "0                 NaN     NaN                f                              1   \n",
       "1                 NaN     NaN                f                              1   \n",
       "2                 5.0     NaN                f                              1   \n",
       "3                 5.0     NaN                f                              1   \n",
       "4                 NaN     NaN                t                              3   \n",
       "\n",
       "  calculated_host_listings_count_entire_homes  \\\n",
       "0                                           0   \n",
       "1                                           1   \n",
       "2                                           1   \n",
       "3                                           1   \n",
       "4                                           2   \n",
       "\n",
       "  calculated_host_listings_count_private_rooms  \\\n",
       "0                                            0   \n",
       "1                                            0   \n",
       "2                                            0   \n",
       "3                                            0   \n",
       "4                                            1   \n",
       "\n",
       "  calculated_host_listings_count_shared_rooms reviews_per_month  \n",
       "0                                           1               NaN  \n",
       "1                                           0               NaN  \n",
       "2                                           0              0.02  \n",
       "3                                           0              0.05  \n",
       "4                                           0               NaN  \n",
       "\n",
       "[5 rows x 75 columns]"
      ]
     },
     "execution_count": 7,
     "metadata": {},
     "output_type": "execute_result"
    }
   ],
   "source": [
    "listingsgz_df.head()"
   ]
  },
  {
   "cell_type": "code",
   "execution_count": 8,
   "metadata": {},
   "outputs": [
    {
     "data": {
      "text/plain": [
       "description                     6555\n",
       "bathrooms                       6555\n",
       "calendar_updated                6555\n",
       "bedrooms                        6555\n",
       "neighbourhood_group_cleansed    6555\n",
       "license                         6535\n",
       "host_neighbourhood              4567\n",
       "host_about                      3988\n",
       "neighborhood_overview           3908\n",
       "neighbourhood                   3908\n",
       "host_response_rate              2310\n",
       "host_response_time              2310\n",
       "price                           1447\n",
       "has_availability                1447\n",
       "host_location                   1334\n",
       "review_scores_checkin           1314\n",
       "review_scores_accuracy          1314\n",
       "review_scores_rating            1314\n",
       "last_review                     1314\n",
       "review_scores_communication     1314\n",
       "review_scores_location          1314\n",
       "review_scores_value             1314\n",
       "first_review                    1314\n",
       "review_scores_cleanliness       1314\n",
       "reviews_per_month               1314\n",
       "host_acceptance_rate            1177\n",
       "beds                             107\n",
       "host_is_superhost                 21\n",
       "bathrooms_text                     5\n",
       "host_name                          1\n",
       "host_since                         1\n",
       "host_identity_verified             1\n",
       "host_has_profile_pic               1\n",
       "host_verifications                 1\n",
       "host_total_listings_count          1\n",
       "host_listings_count                1\n",
       "host_picture_url                   1\n",
       "host_thumbnail_url                 1\n",
       "dtype: int64"
      ]
     },
     "execution_count": 8,
     "metadata": {},
     "output_type": "execute_result"
    }
   ],
   "source": [
    "listingsgz_df.isnull().sum()[listingsgz_df.isnull().sum() > 0].sort_values(ascending=False)"
   ]
  },
  {
   "cell_type": "code",
   "execution_count": 9,
   "metadata": {},
   "outputs": [],
   "source": [
    "listingsgz_df_lesscol = listingsgz_df.drop(['license', 'host_about', 'host_response_rate', 'host_response_time', \"host_location\",\"host_thumbnail_url\",\"host_picture_url\", \"host_listings_count\", \"picture_url\",\"description\"], axis=1)"
   ]
  },
  {
   "cell_type": "code",
   "execution_count": 10,
   "metadata": {},
   "outputs": [
    {
     "data": {
      "text/plain": [
       "Index(['id', 'listing_url', 'scrape_id', 'last_scraped', 'source', 'name',\n",
       "       'neighborhood_overview', 'host_id', 'host_url', 'host_name',\n",
       "       'host_since', 'host_acceptance_rate', 'host_is_superhost',\n",
       "       'host_neighbourhood', 'host_total_listings_count', 'host_verifications',\n",
       "       'host_has_profile_pic', 'host_identity_verified', 'neighbourhood',\n",
       "       'neighbourhood_cleansed', 'neighbourhood_group_cleansed', 'latitude',\n",
       "       'longitude', 'property_type', 'room_type', 'accommodates', 'bathrooms',\n",
       "       'bathrooms_text', 'bedrooms', 'beds', 'amenities', 'price',\n",
       "       'minimum_nights', 'maximum_nights', 'minimum_minimum_nights',\n",
       "       'maximum_minimum_nights', 'minimum_maximum_nights',\n",
       "       'maximum_maximum_nights', 'minimum_nights_avg_ntm',\n",
       "       'maximum_nights_avg_ntm', 'calendar_updated', 'has_availability',\n",
       "       'availability_30', 'availability_60', 'availability_90',\n",
       "       'availability_365', 'calendar_last_scraped', 'number_of_reviews',\n",
       "       'number_of_reviews_ltm', 'number_of_reviews_l30d', 'first_review',\n",
       "       'last_review', 'review_scores_rating', 'review_scores_accuracy',\n",
       "       'review_scores_cleanliness', 'review_scores_checkin',\n",
       "       'review_scores_communication', 'review_scores_location',\n",
       "       'review_scores_value', 'instant_bookable',\n",
       "       'calculated_host_listings_count',\n",
       "       'calculated_host_listings_count_entire_homes',\n",
       "       'calculated_host_listings_count_private_rooms',\n",
       "       'calculated_host_listings_count_shared_rooms', 'reviews_per_month'],\n",
       "      dtype='object')"
      ]
     },
     "execution_count": 10,
     "metadata": {},
     "output_type": "execute_result"
    }
   ],
   "source": [
    "listingsgz_df_lesscol.columns"
   ]
  },
  {
   "cell_type": "code",
   "execution_count": 11,
   "metadata": {},
   "outputs": [
    {
     "name": "stderr",
     "output_type": "stream",
     "text": [
      "/var/folders/5n/nhlty2pd5q96xfw8z_1stsnm0000gn/T/ipykernel_43807/1495269943.py:1: FutureWarning: A value is trying to be set on a copy of a DataFrame or Series through chained assignment using an inplace method.\n",
      "The behavior will change in pandas 3.0. This inplace method will never work because the intermediate object on which we are setting values always behaves as a copy.\n",
      "\n",
      "For example, when doing 'df[col].method(value, inplace=True)', try using 'df.method({col: value}, inplace=True)' or df[col] = df[col].method(value) instead, to perform the operation inplace on the original object.\n",
      "\n",
      "\n",
      "  listingsgz_df_lesscol[\"price\"].replace({'\\$': '', ',': ''}, regex=True, inplace=True)\n"
     ]
    },
    {
     "data": {
      "text/plain": [
       "0          NaN\n",
       "1          NaN\n",
       "2          NaN\n",
       "3          NaN\n",
       "4          NaN\n",
       "         ...  \n",
       "6550    120.00\n",
       "6551     94.00\n",
       "6552    135.00\n",
       "6553    216.00\n",
       "6554     90.00\n",
       "Name: price, Length: 6555, dtype: object"
      ]
     },
     "execution_count": 11,
     "metadata": {},
     "output_type": "execute_result"
    }
   ],
   "source": [
    "listingsgz_df_lesscol[\"price\"].replace({'\\$': '', ',': ''}, regex=True, inplace=True)\n",
    "listingsgz_df_lesscol[\"price\"] "
   ]
  },
  {
   "cell_type": "code",
   "execution_count": 12,
   "metadata": {},
   "outputs": [
    {
     "data": {
      "text/plain": [
       "neighbourhood_group    6555\n",
       "license                6535\n",
       "price                  1447\n",
       "last_review            1314\n",
       "reviews_per_month      1314\n",
       "host_name                 1\n",
       "dtype: int64"
      ]
     },
     "execution_count": 12,
     "metadata": {},
     "output_type": "execute_result"
    }
   ],
   "source": [
    "listings_df.isnull().sum()[listings_df.isnull().sum() > 0].sort_values(ascending=False)"
   ]
  },
  {
   "cell_type": "code",
   "execution_count": 13,
   "metadata": {},
   "outputs": [],
   "source": [
    "listings_df_lesscol = listings_df.drop([\"license\", \"neighbourhood_group\", \"host_name\"], axis=1)"
   ]
  },
  {
   "cell_type": "code",
   "execution_count": 14,
   "metadata": {},
   "outputs": [
    {
     "data": {
      "text/html": [
       "<div>\n",
       "<style scoped>\n",
       "    .dataframe tbody tr th:only-of-type {\n",
       "        vertical-align: middle;\n",
       "    }\n",
       "\n",
       "    .dataframe tbody tr th {\n",
       "        vertical-align: top;\n",
       "    }\n",
       "\n",
       "    .dataframe thead th {\n",
       "        text-align: right;\n",
       "    }\n",
       "</style>\n",
       "<table border=\"1\" class=\"dataframe\">\n",
       "  <thead>\n",
       "    <tr style=\"text-align: right;\">\n",
       "      <th></th>\n",
       "      <th>id</th>\n",
       "      <th>name</th>\n",
       "      <th>host_id</th>\n",
       "      <th>neighbourhood</th>\n",
       "      <th>latitude</th>\n",
       "      <th>longitude</th>\n",
       "      <th>room_type</th>\n",
       "      <th>price</th>\n",
       "      <th>minimum_nights</th>\n",
       "      <th>number_of_reviews</th>\n",
       "      <th>last_review</th>\n",
       "      <th>reviews_per_month</th>\n",
       "      <th>calculated_host_listings_count</th>\n",
       "      <th>availability_365</th>\n",
       "      <th>number_of_reviews_ltm</th>\n",
       "    </tr>\n",
       "  </thead>\n",
       "  <tbody>\n",
       "    <tr>\n",
       "      <th>0</th>\n",
       "      <td>97945</td>\n",
       "      <td>Rental unit in Munich · ★4.84 · 1 bedroom · 1 ...</td>\n",
       "      <td>517685</td>\n",
       "      <td>Hadern</td>\n",
       "      <td>48.11492</td>\n",
       "      <td>11.48954</td>\n",
       "      <td>Entire home/apt</td>\n",
       "      <td>80.0</td>\n",
       "      <td>2</td>\n",
       "      <td>127</td>\n",
       "      <td>2019-10-03</td>\n",
       "      <td>0.85</td>\n",
       "      <td>2</td>\n",
       "      <td>72</td>\n",
       "      <td>0</td>\n",
       "    </tr>\n",
       "    <tr>\n",
       "      <th>1</th>\n",
       "      <td>114695</td>\n",
       "      <td>Rental unit in Munich · ★4.82 · 1 bedroom · 1 ...</td>\n",
       "      <td>581737</td>\n",
       "      <td>Berg am Laim</td>\n",
       "      <td>48.12071</td>\n",
       "      <td>11.63758</td>\n",
       "      <td>Entire home/apt</td>\n",
       "      <td>105.0</td>\n",
       "      <td>2</td>\n",
       "      <td>66</td>\n",
       "      <td>2023-10-25</td>\n",
       "      <td>0.43</td>\n",
       "      <td>3</td>\n",
       "      <td>166</td>\n",
       "      <td>11</td>\n",
       "    </tr>\n",
       "    <tr>\n",
       "      <th>2</th>\n",
       "      <td>127383</td>\n",
       "      <td>Rental unit in Munich · ★4.83 · 1 bedroom · 1 ...</td>\n",
       "      <td>630556</td>\n",
       "      <td>Maxvorstadt</td>\n",
       "      <td>48.15199</td>\n",
       "      <td>11.56482</td>\n",
       "      <td>Entire home/apt</td>\n",
       "      <td>120.0</td>\n",
       "      <td>3</td>\n",
       "      <td>110</td>\n",
       "      <td>2023-12-12</td>\n",
       "      <td>0.72</td>\n",
       "      <td>1</td>\n",
       "      <td>5</td>\n",
       "      <td>3</td>\n",
       "    </tr>\n",
       "    <tr>\n",
       "      <th>3</th>\n",
       "      <td>159634</td>\n",
       "      <td>Rental unit in Munich · ★4.63 · 1 bedroom · 1 ...</td>\n",
       "      <td>765694</td>\n",
       "      <td>Pasing-Obermenzing</td>\n",
       "      <td>48.13855</td>\n",
       "      <td>11.46586</td>\n",
       "      <td>Entire home/apt</td>\n",
       "      <td>60.0</td>\n",
       "      <td>3</td>\n",
       "      <td>37</td>\n",
       "      <td>2023-08-09</td>\n",
       "      <td>0.25</td>\n",
       "      <td>1</td>\n",
       "      <td>5</td>\n",
       "      <td>1</td>\n",
       "    </tr>\n",
       "    <tr>\n",
       "      <th>4</th>\n",
       "      <td>170154</td>\n",
       "      <td>Home in Munich · ★4.96 · 1 bedroom · 2 beds · ...</td>\n",
       "      <td>108297</td>\n",
       "      <td>Sendling-Westpark</td>\n",
       "      <td>48.10814</td>\n",
       "      <td>11.52733</td>\n",
       "      <td>Private room</td>\n",
       "      <td>70.0</td>\n",
       "      <td>3</td>\n",
       "      <td>546</td>\n",
       "      <td>2023-12-19</td>\n",
       "      <td>3.66</td>\n",
       "      <td>1</td>\n",
       "      <td>169</td>\n",
       "      <td>25</td>\n",
       "    </tr>\n",
       "  </tbody>\n",
       "</table>\n",
       "</div>"
      ],
      "text/plain": [
       "       id                                               name  host_id  \\\n",
       "0   97945  Rental unit in Munich · ★4.84 · 1 bedroom · 1 ...   517685   \n",
       "1  114695  Rental unit in Munich · ★4.82 · 1 bedroom · 1 ...   581737   \n",
       "2  127383  Rental unit in Munich · ★4.83 · 1 bedroom · 1 ...   630556   \n",
       "3  159634  Rental unit in Munich · ★4.63 · 1 bedroom · 1 ...   765694   \n",
       "4  170154  Home in Munich · ★4.96 · 1 bedroom · 2 beds · ...   108297   \n",
       "\n",
       "        neighbourhood  latitude  longitude        room_type  price  \\\n",
       "0              Hadern  48.11492   11.48954  Entire home/apt   80.0   \n",
       "1        Berg am Laim  48.12071   11.63758  Entire home/apt  105.0   \n",
       "2         Maxvorstadt  48.15199   11.56482  Entire home/apt  120.0   \n",
       "3  Pasing-Obermenzing  48.13855   11.46586  Entire home/apt   60.0   \n",
       "4   Sendling-Westpark  48.10814   11.52733     Private room   70.0   \n",
       "\n",
       "   minimum_nights  number_of_reviews last_review  reviews_per_month  \\\n",
       "0               2                127  2019-10-03               0.85   \n",
       "1               2                 66  2023-10-25               0.43   \n",
       "2               3                110  2023-12-12               0.72   \n",
       "3               3                 37  2023-08-09               0.25   \n",
       "4               3                546  2023-12-19               3.66   \n",
       "\n",
       "   calculated_host_listings_count  availability_365  number_of_reviews_ltm  \n",
       "0                               2                72                      0  \n",
       "1                               3               166                     11  \n",
       "2                               1                 5                      3  \n",
       "3                               1                 5                      1  \n",
       "4                               1               169                     25  "
      ]
     },
     "execution_count": 14,
     "metadata": {},
     "output_type": "execute_result"
    }
   ],
   "source": [
    "listings_df_lesscol.head()  "
   ]
  },
  {
   "cell_type": "code",
   "execution_count": 15,
   "metadata": {},
   "outputs": [
    {
     "data": {
      "text/plain": [
       "np.int64(1447)"
      ]
     },
     "execution_count": 15,
     "metadata": {},
     "output_type": "execute_result"
    }
   ],
   "source": [
    "listings_df_lesscol[\"price\"].isnull().sum()\n"
   ]
  },
  {
   "cell_type": "code",
   "execution_count": 16,
   "metadata": {},
   "outputs": [
    {
     "name": "stdout",
     "output_type": "stream",
     "text": [
      "<class 'pandas.core.series.Series'>\n",
      "RangeIndex: 6555 entries, 0 to 6554\n",
      "Series name: room_type\n",
      "Non-Null Count  Dtype \n",
      "--------------  ----- \n",
      "6555 non-null   object\n",
      "dtypes: object(1)\n",
      "memory usage: 51.3+ KB\n"
     ]
    }
   ],
   "source": [
    "listings_df_lesscol[\"room_type\"].info()"
   ]
  },
  {
   "cell_type": "markdown",
   "metadata": {},
   "source": [
    "#### Valores nulos price en Listings"
   ]
  },
  {
   "cell_type": "code",
   "execution_count": 17,
   "metadata": {},
   "outputs": [
    {
     "name": "stderr",
     "output_type": "stream",
     "text": [
      "/var/folders/5n/nhlty2pd5q96xfw8z_1stsnm0000gn/T/ipykernel_43807/3519924582.py:9: FutureWarning: A value is trying to be set on a copy of a DataFrame or Series through chained assignment using an inplace method.\n",
      "The behavior will change in pandas 3.0. This inplace method will never work because the intermediate object on which we are setting values always behaves as a copy.\n",
      "\n",
      "For example, when doing 'df[col].method(value, inplace=True)', try using 'df.method({col: value}, inplace=True)' or df[col] = df[col].method(value) instead, to perform the operation inplace on the original object.\n",
      "\n",
      "\n",
      "  listings_df_lesscol['price'].fillna(listings_df_lesscol['price_mediana'], inplace=True)\n"
     ]
    }
   ],
   "source": [
    "# Calculo mediana de precios en relacion a su room_type y neighbourhood\n",
    "median_prices_roomnneigh = listings_df_lesscol.groupby(['room_type', 'neighbourhood'])['price'].median().reset_index()\n",
    "\n",
    "median_prices_roomnneigh.rename(columns={'price': 'price_mediana'}, inplace=True)\n",
    "\n",
    "listings_df_lesscol = listings_df_lesscol.merge(median_prices_roomnneigh, on=['room_type', 'neighbourhood'], how='left')\n",
    "\n",
    "# Relleno de valores faltantes\n",
    "listings_df_lesscol['price'].fillna(listings_df_lesscol['price_mediana'], inplace=True)\n",
    "\n",
    "# Elimino la columna que hice para la mediana de precios\n",
    "listings_df_lesscol.drop(columns=['price_mediana'], inplace=True)\n",
    "\n",
    "#faltan 3 valores por rellenar pero no tiene tanta data como para completarlo, asi que lo dejo asi. "
   ]
  },
  {
   "cell_type": "code",
   "execution_count": 18,
   "metadata": {},
   "outputs": [
    {
     "data": {
      "text/plain": [
       "np.int64(3)"
      ]
     },
     "execution_count": 18,
     "metadata": {},
     "output_type": "execute_result"
    }
   ],
   "source": [
    "listings_df_lesscol[\"price\"].isnull().sum() "
   ]
  },
  {
   "cell_type": "markdown",
   "metadata": {},
   "source": [
    "#### Al df listings_df_lesscol voy a agregarle columnas de listingsgz_df_lesscol que sean utiles para el analisis"
   ]
  },
  {
   "cell_type": "code",
   "execution_count": 19,
   "metadata": {},
   "outputs": [
    {
     "name": "stdout",
     "output_type": "stream",
     "text": [
      "Valor máximo: 5.0\n",
      "Valor mínimo: 1.0\n"
     ]
    }
   ],
   "source": [
    "# para ver cual es el valor maximo y minimo del score de localizacion\n",
    "max_value = listingsgz_df_lesscol[\"review_scores_location\"].max()\n",
    "min_value = listingsgz_df_lesscol[\"review_scores_location\"].min()\n",
    "\n",
    "print(\"Valor máximo:\", max_value)\n",
    "print(\"Valor mínimo:\", min_value)"
   ]
  },
  {
   "cell_type": "code",
   "execution_count": 20,
   "metadata": {},
   "outputs": [
    {
     "ename": "KeyError",
     "evalue": "\"['bedroom'] not in index\"",
     "output_type": "error",
     "traceback": [
      "\u001b[0;31m---------------------------------------------------------------------------\u001b[0m",
      "\u001b[0;31mKeyError\u001b[0m                                  Traceback (most recent call last)",
      "Cell \u001b[0;32mIn[20], line 2\u001b[0m\n\u001b[1;32m      1\u001b[0m \u001b[38;5;66;03m# Agregar la columna \"review_scores_location\" a listings_df_lesscol\u001b[39;00m\n\u001b[0;32m----> 2\u001b[0m listings_df_lesscol \u001b[38;5;241m=\u001b[39m pd\u001b[38;5;241m.\u001b[39mmerge(listings_df_lesscol, \u001b[43mlistingsgz_df_lesscol\u001b[49m\u001b[43m[\u001b[49m\u001b[43m[\u001b[49m\u001b[38;5;124;43m\"\u001b[39;49m\u001b[38;5;124;43mid\u001b[39;49m\u001b[38;5;124;43m\"\u001b[39;49m\u001b[43m,\u001b[49m\u001b[43m \u001b[49m\u001b[38;5;124;43m\"\u001b[39;49m\u001b[38;5;124;43mreview_scores_location\u001b[39;49m\u001b[38;5;124;43m\"\u001b[39;49m\u001b[43m,\u001b[49m\u001b[38;5;124;43m\"\u001b[39;49m\u001b[38;5;124;43mbedroom\u001b[39;49m\u001b[38;5;124;43m\"\u001b[39;49m\u001b[43m]\u001b[49m\u001b[43m]\u001b[49m, on\u001b[38;5;241m=\u001b[39m\u001b[38;5;124m\"\u001b[39m\u001b[38;5;124mid\u001b[39m\u001b[38;5;124m\"\u001b[39m, how\u001b[38;5;241m=\u001b[39m\u001b[38;5;124m\"\u001b[39m\u001b[38;5;124mleft\u001b[39m\u001b[38;5;124m\"\u001b[39m)\n",
      "File \u001b[0;32m~/projects/AirbnbMunich/airbnb/lib/python3.11/site-packages/pandas/core/frame.py:4108\u001b[0m, in \u001b[0;36mDataFrame.__getitem__\u001b[0;34m(self, key)\u001b[0m\n\u001b[1;32m   4106\u001b[0m     \u001b[38;5;28;01mif\u001b[39;00m is_iterator(key):\n\u001b[1;32m   4107\u001b[0m         key \u001b[38;5;241m=\u001b[39m \u001b[38;5;28mlist\u001b[39m(key)\n\u001b[0;32m-> 4108\u001b[0m     indexer \u001b[38;5;241m=\u001b[39m \u001b[38;5;28;43mself\u001b[39;49m\u001b[38;5;241;43m.\u001b[39;49m\u001b[43mcolumns\u001b[49m\u001b[38;5;241;43m.\u001b[39;49m\u001b[43m_get_indexer_strict\u001b[49m\u001b[43m(\u001b[49m\u001b[43mkey\u001b[49m\u001b[43m,\u001b[49m\u001b[43m \u001b[49m\u001b[38;5;124;43m\"\u001b[39;49m\u001b[38;5;124;43mcolumns\u001b[39;49m\u001b[38;5;124;43m\"\u001b[39;49m\u001b[43m)\u001b[49m[\u001b[38;5;241m1\u001b[39m]\n\u001b[1;32m   4110\u001b[0m \u001b[38;5;66;03m# take() does not accept boolean indexers\u001b[39;00m\n\u001b[1;32m   4111\u001b[0m \u001b[38;5;28;01mif\u001b[39;00m \u001b[38;5;28mgetattr\u001b[39m(indexer, \u001b[38;5;124m\"\u001b[39m\u001b[38;5;124mdtype\u001b[39m\u001b[38;5;124m\"\u001b[39m, \u001b[38;5;28;01mNone\u001b[39;00m) \u001b[38;5;241m==\u001b[39m \u001b[38;5;28mbool\u001b[39m:\n",
      "File \u001b[0;32m~/projects/AirbnbMunich/airbnb/lib/python3.11/site-packages/pandas/core/indexes/base.py:6200\u001b[0m, in \u001b[0;36mIndex._get_indexer_strict\u001b[0;34m(self, key, axis_name)\u001b[0m\n\u001b[1;32m   6197\u001b[0m \u001b[38;5;28;01melse\u001b[39;00m:\n\u001b[1;32m   6198\u001b[0m     keyarr, indexer, new_indexer \u001b[38;5;241m=\u001b[39m \u001b[38;5;28mself\u001b[39m\u001b[38;5;241m.\u001b[39m_reindex_non_unique(keyarr)\n\u001b[0;32m-> 6200\u001b[0m \u001b[38;5;28;43mself\u001b[39;49m\u001b[38;5;241;43m.\u001b[39;49m\u001b[43m_raise_if_missing\u001b[49m\u001b[43m(\u001b[49m\u001b[43mkeyarr\u001b[49m\u001b[43m,\u001b[49m\u001b[43m \u001b[49m\u001b[43mindexer\u001b[49m\u001b[43m,\u001b[49m\u001b[43m \u001b[49m\u001b[43maxis_name\u001b[49m\u001b[43m)\u001b[49m\n\u001b[1;32m   6202\u001b[0m keyarr \u001b[38;5;241m=\u001b[39m \u001b[38;5;28mself\u001b[39m\u001b[38;5;241m.\u001b[39mtake(indexer)\n\u001b[1;32m   6203\u001b[0m \u001b[38;5;28;01mif\u001b[39;00m \u001b[38;5;28misinstance\u001b[39m(key, Index):\n\u001b[1;32m   6204\u001b[0m     \u001b[38;5;66;03m# GH 42790 - Preserve name from an Index\u001b[39;00m\n",
      "File \u001b[0;32m~/projects/AirbnbMunich/airbnb/lib/python3.11/site-packages/pandas/core/indexes/base.py:6252\u001b[0m, in \u001b[0;36mIndex._raise_if_missing\u001b[0;34m(self, key, indexer, axis_name)\u001b[0m\n\u001b[1;32m   6249\u001b[0m     \u001b[38;5;28;01mraise\u001b[39;00m \u001b[38;5;167;01mKeyError\u001b[39;00m(\u001b[38;5;124mf\u001b[39m\u001b[38;5;124m\"\u001b[39m\u001b[38;5;124mNone of [\u001b[39m\u001b[38;5;132;01m{\u001b[39;00mkey\u001b[38;5;132;01m}\u001b[39;00m\u001b[38;5;124m] are in the [\u001b[39m\u001b[38;5;132;01m{\u001b[39;00maxis_name\u001b[38;5;132;01m}\u001b[39;00m\u001b[38;5;124m]\u001b[39m\u001b[38;5;124m\"\u001b[39m)\n\u001b[1;32m   6251\u001b[0m not_found \u001b[38;5;241m=\u001b[39m \u001b[38;5;28mlist\u001b[39m(ensure_index(key)[missing_mask\u001b[38;5;241m.\u001b[39mnonzero()[\u001b[38;5;241m0\u001b[39m]]\u001b[38;5;241m.\u001b[39munique())\n\u001b[0;32m-> 6252\u001b[0m \u001b[38;5;28;01mraise\u001b[39;00m \u001b[38;5;167;01mKeyError\u001b[39;00m(\u001b[38;5;124mf\u001b[39m\u001b[38;5;124m\"\u001b[39m\u001b[38;5;132;01m{\u001b[39;00mnot_found\u001b[38;5;132;01m}\u001b[39;00m\u001b[38;5;124m not in index\u001b[39m\u001b[38;5;124m\"\u001b[39m)\n",
      "\u001b[0;31mKeyError\u001b[0m: \"['bedroom'] not in index\""
     ]
    }
   ],
   "source": [
    "# Agregar la columna \"review_scores_location\" a listings_df_lesscol\n",
    "listings_df_lesscol = pd.merge(listings_df_lesscol, listingsgz_df_lesscol[[\"id\", \"review_scores_location\",\"bedroom\"]], on=\"id\", how=\"left\")"
   ]
  },
  {
   "cell_type": "code",
   "execution_count": null,
   "metadata": {},
   "outputs": [
    {
     "data": {
      "text/html": [
       "<div>\n",
       "<style scoped>\n",
       "    .dataframe tbody tr th:only-of-type {\n",
       "        vertical-align: middle;\n",
       "    }\n",
       "\n",
       "    .dataframe tbody tr th {\n",
       "        vertical-align: top;\n",
       "    }\n",
       "\n",
       "    .dataframe thead th {\n",
       "        text-align: right;\n",
       "    }\n",
       "</style>\n",
       "<table border=\"1\" class=\"dataframe\">\n",
       "  <thead>\n",
       "    <tr style=\"text-align: right;\">\n",
       "      <th></th>\n",
       "      <th>id</th>\n",
       "      <th>name</th>\n",
       "      <th>host_id</th>\n",
       "      <th>neighbourhood</th>\n",
       "      <th>latitude</th>\n",
       "      <th>longitude</th>\n",
       "      <th>room_type</th>\n",
       "      <th>price</th>\n",
       "      <th>minimum_nights</th>\n",
       "      <th>number_of_reviews</th>\n",
       "      <th>last_review</th>\n",
       "      <th>reviews_per_month</th>\n",
       "      <th>calculated_host_listings_count</th>\n",
       "      <th>availability_365</th>\n",
       "      <th>number_of_reviews_ltm</th>\n",
       "      <th>review_scores_location</th>\n",
       "    </tr>\n",
       "  </thead>\n",
       "  <tbody>\n",
       "    <tr>\n",
       "      <th>0</th>\n",
       "      <td>97945</td>\n",
       "      <td>Rental unit in Munich · ★4.84 · 1 bedroom · 1 ...</td>\n",
       "      <td>517685</td>\n",
       "      <td>Hadern</td>\n",
       "      <td>48.11492</td>\n",
       "      <td>11.48954</td>\n",
       "      <td>Entire home/apt</td>\n",
       "      <td>80.0</td>\n",
       "      <td>2</td>\n",
       "      <td>127</td>\n",
       "      <td>2019-10-03</td>\n",
       "      <td>0.85</td>\n",
       "      <td>2</td>\n",
       "      <td>72</td>\n",
       "      <td>0</td>\n",
       "      <td>4.78</td>\n",
       "    </tr>\n",
       "  </tbody>\n",
       "</table>\n",
       "</div>"
      ],
      "text/plain": [
       "      id                                               name  host_id  \\\n",
       "0  97945  Rental unit in Munich · ★4.84 · 1 bedroom · 1 ...   517685   \n",
       "\n",
       "  neighbourhood  latitude  longitude        room_type  price  minimum_nights  \\\n",
       "0        Hadern  48.11492   11.48954  Entire home/apt   80.0               2   \n",
       "\n",
       "   number_of_reviews last_review  reviews_per_month  \\\n",
       "0                127  2019-10-03               0.85   \n",
       "\n",
       "   calculated_host_listings_count  availability_365  number_of_reviews_ltm  \\\n",
       "0                               2                72                      0   \n",
       "\n",
       "   review_scores_location  \n",
       "0                    4.78  "
      ]
     },
     "execution_count": 22,
     "metadata": {},
     "output_type": "execute_result"
    }
   ],
   "source": [
    "listings_df_lesscol.head(1) # corroboro que se haya agregado la columna \"review_scores_location\""
   ]
  },
  {
   "cell_type": "markdown",
   "metadata": {},
   "source": [
    "#### Analisis de los barrios con precios mas altos"
   ]
  },
  {
   "cell_type": "code",
   "execution_count": null,
   "metadata": {},
   "outputs": [
    {
     "data": {
      "text/plain": [
       "id                  neighbourhood                 room_type      \n",
       "687443113487896053  Au-Haidhausen                 Shared room        96274.0\n",
       "25961730            Feldmoching-Hasenbergl        Entire home/apt    11000.0\n",
       "28192258            Ludwigsvorstadt-Isarvorstadt  Entire home/apt     8000.0\n",
       "38989135            Sendling-Westpark             Entire home/apt     3582.0\n",
       "662925540895249864  Maxvorstadt                   Entire home/apt     2000.0\n",
       "974447132884521229  Neuhausen-Nymphenburg         Entire home/apt     1870.0\n",
       "38261620            Altstadt-Lehel                Entire home/apt     1600.0\n",
       "713516514999977755  Ludwigsvorstadt-Isarvorstadt  Entire home/apt     1500.0\n",
       "817935207994522660  Neuhausen-Nymphenburg         Private room        1500.0\n",
       "709166723659033290  Ludwigsvorstadt-Isarvorstadt  Entire home/apt     1500.0\n",
       "Name: price, dtype: float64"
      ]
     },
     "execution_count": 23,
     "metadata": {},
     "output_type": "execute_result"
    }
   ],
   "source": [
    "max_prices_neigh =listings_df_lesscol .groupby([\"id\",'neighbourhood', 'room_type'])['price'].max().sort_values(ascending=False)\n",
    "max_prices_neigh.head(10)"
   ]
  },
  {
   "cell_type": "code",
   "execution_count": null,
   "metadata": {},
   "outputs": [
    {
     "data": {
      "text/plain": [
       "3611    96274.0\n",
       "1816      939.0\n",
       "1677      700.0\n",
       "1684      700.0\n",
       "1683      700.0\n",
       "         ...   \n",
       "977        44.0\n",
       "2226       43.0\n",
       "2498       40.0\n",
       "979        39.0\n",
       "2998       35.0\n",
       "Name: price, Length: 422, dtype: float64"
      ]
     },
     "execution_count": 24,
     "metadata": {},
     "output_type": "execute_result"
    }
   ],
   "source": [
    "listings_df_lesscol[listings_df_lesscol[\"neighbourhood\"] == \"Au-Haidhausen\"].sort_values(\"price\", ascending=False)[\"price\"]"
   ]
  },
  {
   "cell_type": "markdown",
   "metadata": {},
   "source": [
    "#### Relacionar barrio con los precios mas altos y con los reviews scores mas altos\n"
   ]
  },
  {
   "cell_type": "code",
   "execution_count": null,
   "metadata": {},
   "outputs": [
    {
     "data": {
      "text/plain": [
       "Index(['id', 'name', 'host_id', 'neighbourhood', 'latitude', 'longitude',\n",
       "       'room_type', 'price', 'minimum_nights', 'number_of_reviews',\n",
       "       'last_review', 'reviews_per_month', 'calculated_host_listings_count',\n",
       "       'availability_365', 'number_of_reviews_ltm', 'review_scores_location'],\n",
       "      dtype='object')"
      ]
     },
     "execution_count": 25,
     "metadata": {},
     "output_type": "execute_result"
    }
   ],
   "source": [
    "listings_df_lesscol.columns"
   ]
  },
  {
   "cell_type": "code",
   "execution_count": null,
   "metadata": {},
   "outputs": [
    {
     "data": {
      "text/plain": [
       "np.int64(1314)"
      ]
     },
     "execution_count": 26,
     "metadata": {},
     "output_type": "execute_result"
    }
   ],
   "source": [
    "listings_df_lesscol[\"review_scores_location\"].isnull().sum()"
   ]
  },
  {
   "cell_type": "code",
   "execution_count": null,
   "metadata": {},
   "outputs": [
    {
     "data": {
      "text/plain": [
       "2927    5.0\n",
       "3529    5.0\n",
       "3501    5.0\n",
       "3503    5.0\n",
       "3504    5.0\n",
       "       ... \n",
       "6550    NaN\n",
       "6551    NaN\n",
       "6552    NaN\n",
       "6553    NaN\n",
       "6554    NaN\n",
       "Name: review_scores_location, Length: 6555, dtype: float64"
      ]
     },
     "execution_count": 27,
     "metadata": {},
     "output_type": "execute_result"
    }
   ],
   "source": [
    "highest_review_scores =listings_df_lesscol[\"review_scores_location\"].sort_values(ascending=False)\n",
    "highest_review_scores"
   ]
  },
  {
   "cell_type": "code",
   "execution_count": null,
   "metadata": {},
   "outputs": [
    {
     "data": {
      "text/plain": [
       "id                  neighbourhood                 room_type        review_scores_location  latitude   longitude\n",
       "25961730            Feldmoching-Hasenbergl        Entire home/apt  4.80                    48.210610  11.542590    11000.0\n",
       "28192258            Ludwigsvorstadt-Isarvorstadt  Entire home/apt  5.00                    48.123280  11.566810     8000.0\n",
       "38989135            Sendling-Westpark             Entire home/apt  4.00                    48.108340  11.526620     3582.0\n",
       "662925540895249864  Maxvorstadt                   Entire home/apt  4.91                    48.151280  11.558864     2000.0\n",
       "38261620            Altstadt-Lehel                Entire home/apt  5.00                    48.134160  11.576950     1600.0\n",
       "12880683            Laim                          Entire home/apt  4.92                    48.137710  11.492780     1277.0\n",
       "760646086436599544  Ludwigsvorstadt-Isarvorstadt  Entire home/apt  4.67                    48.126630  11.548525     1200.0\n",
       "680922632192724403  Berg am Laim                  Entire home/apt  5.00                    48.124082  11.605817     1200.0\n",
       "714152841950410485  Maxvorstadt                   Entire home/apt  5.00                    48.146160  11.546230     1200.0\n",
       "987512590557650628  Ludwigsvorstadt-Isarvorstadt  Entire home/apt  5.00                    48.137329  11.553973     1200.0\n",
       "Name: price, dtype: float64"
      ]
     },
     "execution_count": 28,
     "metadata": {},
     "output_type": "execute_result"
    }
   ],
   "source": [
    "max_prices_neighreview =listings_df_lesscol .groupby([\"id\",'neighbourhood', 'room_type', \"review_scores_location\", 'latitude', 'longitude'])['price'].max().sort_values(ascending=False)\n",
    "max_prices_neighreview.head(10)"
   ]
  },
  {
   "cell_type": "code",
   "execution_count": null,
   "metadata": {},
   "outputs": [
    {
     "data": {
      "text/plain": [
       "id                  neighbourhood                 room_type        review_scores_location  latitude   longitude\n",
       "25961730            Feldmoching-Hasenbergl        Entire home/apt  4.80                    48.210610  11.542590    11000.0\n",
       "28192258            Ludwigsvorstadt-Isarvorstadt  Entire home/apt  5.00                    48.123280  11.566810     8000.0\n",
       "38989135            Sendling-Westpark             Entire home/apt  4.00                    48.108340  11.526620     3582.0\n",
       "662925540895249864  Maxvorstadt                   Entire home/apt  4.91                    48.151280  11.558864     2000.0\n",
       "38261620            Altstadt-Lehel                Entire home/apt  5.00                    48.134160  11.576950     1600.0\n",
       "12880683            Laim                          Entire home/apt  4.92                    48.137710  11.492780     1277.0\n",
       "760646086436599544  Ludwigsvorstadt-Isarvorstadt  Entire home/apt  4.67                    48.126630  11.548525     1200.0\n",
       "680922632192724403  Berg am Laim                  Entire home/apt  5.00                    48.124082  11.605817     1200.0\n",
       "714152841950410485  Maxvorstadt                   Entire home/apt  5.00                    48.146160  11.546230     1200.0\n",
       "987512590557650628  Ludwigsvorstadt-Isarvorstadt  Entire home/apt  5.00                    48.137329  11.553973     1200.0\n",
       "Name: price, dtype: float64"
      ]
     },
     "execution_count": 29,
     "metadata": {},
     "output_type": "execute_result"
    }
   ],
   "source": [
    "dftop_10_max_prices_review = max_prices_neighreview.head(10)\n",
    "dftop_10_max_prices_review\n"
   ]
  },
  {
   "cell_type": "code",
   "execution_count": null,
   "metadata": {},
   "outputs": [
    {
     "data": {
      "text/plain": [
       "count       10.00000\n",
       "mean      3225.90000\n",
       "std       3459.56235\n",
       "min       1200.00000\n",
       "25%       1200.00000\n",
       "50%       1438.50000\n",
       "75%       3186.50000\n",
       "max      11000.00000\n",
       "Name: price, dtype: float64"
      ]
     },
     "execution_count": 30,
     "metadata": {},
     "output_type": "execute_result"
    }
   ],
   "source": [
    "dftop_10_max_prices_review.describe()"
   ]
  },
  {
   "cell_type": "code",
   "execution_count": null,
   "metadata": {},
   "outputs": [
    {
     "data": {
      "text/plain": [
       "id                  neighbourhood                 room_type        review_scores_location  latitude   longitude\n",
       "25961730            Feldmoching-Hasenbergl        Entire home/apt  4.80                    48.210610  11.542590    11000.0\n",
       "28192258            Ludwigsvorstadt-Isarvorstadt  Entire home/apt  5.00                    48.123280  11.566810     8000.0\n",
       "38989135            Sendling-Westpark             Entire home/apt  4.00                    48.108340  11.526620     3582.0\n",
       "662925540895249864  Maxvorstadt                   Entire home/apt  4.91                    48.151280  11.558864     2000.0\n",
       "38261620            Altstadt-Lehel                Entire home/apt  5.00                    48.134160  11.576950     1600.0\n",
       "12880683            Laim                          Entire home/apt  4.92                    48.137710  11.492780     1277.0\n",
       "760646086436599544  Ludwigsvorstadt-Isarvorstadt  Entire home/apt  4.67                    48.126630  11.548525     1200.0\n",
       "680922632192724403  Berg am Laim                  Entire home/apt  5.00                    48.124082  11.605817     1200.0\n",
       "714152841950410485  Maxvorstadt                   Entire home/apt  5.00                    48.146160  11.546230     1200.0\n",
       "987512590557650628  Ludwigsvorstadt-Isarvorstadt  Entire home/apt  5.00                    48.137329  11.553973     1200.0\n",
       "Name: price, dtype: float64"
      ]
     },
     "execution_count": 31,
     "metadata": {},
     "output_type": "execute_result"
    }
   ],
   "source": [
    "dftop_10_max_prices_review.to_csv('top10munich.csv', index=False)\n",
    "dftop_10_max_prices_review"
   ]
  }
 ],
 "metadata": {
  "kernelspec": {
   "display_name": "airbnb",
   "language": "python",
   "name": "python3"
  },
  "language_info": {
   "codemirror_mode": {
    "name": "ipython",
    "version": 3
   },
   "file_extension": ".py",
   "mimetype": "text/x-python",
   "name": "python",
   "nbconvert_exporter": "python",
   "pygments_lexer": "ipython3",
   "version": "3.11.9"
  }
 },
 "nbformat": 4,
 "nbformat_minor": 2
}
