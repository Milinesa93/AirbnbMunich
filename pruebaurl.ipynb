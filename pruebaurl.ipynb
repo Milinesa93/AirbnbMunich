{
 "cells": [
  {
   "cell_type": "code",
   "execution_count": 1,
   "metadata": {},
   "outputs": [],
   "source": [
    "import pandas as pd\n",
    "import numpy as np\n",
    "import matplotlib.pyplot as plt\n",
    "import seaborn as sns\n",
    "import os\n",
    "import requests\n",
    "import json\n",
    "import geopy.distance\n",
    "import geopandas as gpd\n",
    "from shapely.geometry import Point, Polygon"
   ]
  },
  {
   "cell_type": "code",
   "execution_count": 2,
   "metadata": {},
   "outputs": [],
   "source": [
    "listingsgz_dfprueba = pd.read_csv('data/listings.csv.gz')\n"
   ]
  },
  {
   "cell_type": "code",
   "execution_count": 3,
   "metadata": {
    "vscode": {
     "languageId": "ruby"
    }
   },
   "outputs": [],
   "source": [
    "columns_to_drop = ['description', 'neighborhood_overview', 'picture_url', 'host_id', 'host_url', 'host_name', 'host_since', 'host_location', 'host_about', 'host_response_time', 'host_response_rate', 'host_acceptance_rate', 'host_is_superhost', 'host_thumbnail_url', 'host_picture_url', 'host_neighbourhood', 'host_listings_count', 'host_total_listings_count', 'host_verifications', 'host_has_profile_pic', 'host_identity_verified', 'neighbourhood_group_cleansed', 'bathrooms', 'bathrooms_text', 'beds', 'amenities', 'minimum_nights', 'maximum_nights', 'minimum_minimum_nights', 'maximum_minimum_nights', 'minimum_maximum_nights', 'maximum_maximum_nights', 'minimum_nights_avg_ntm', 'maximum_nights_avg_ntm', 'calendar_updated', 'has_availability', 'availability_30', 'availability_60', 'availability_90', 'availability_365', 'calendar_last_scraped', 'number_of_reviews', 'number_of_reviews_ltm', 'number_of_reviews_l30d', 'first_review', 'last_review', 'review_scores_rating', 'review_scores_accuracy', 'review_scores_cleanliness', 'review_scores_checkin', 'review_scores_communication', 'review_scores_value', 'license', 'instant_bookable', 'calculated_host_listings_count', 'calculated_host_listings_count_entire_homes', 'calculated_host_listings_count_private_rooms', 'calculated_host_listings_count_shared_rooms', 'reviews_per_month']\n",
    "\n",
    "listingsgz_dfprueba.drop(columns=columns_to_drop, inplace=True)"
   ]
  },
  {
   "cell_type": "code",
   "execution_count": 4,
   "metadata": {
    "vscode": {
     "languageId": "ruby"
    }
   },
   "outputs": [
    {
     "data": {
      "text/html": [
       "<div>\n",
       "<style scoped>\n",
       "    .dataframe tbody tr th:only-of-type {\n",
       "        vertical-align: middle;\n",
       "    }\n",
       "\n",
       "    .dataframe tbody tr th {\n",
       "        vertical-align: top;\n",
       "    }\n",
       "\n",
       "    .dataframe thead th {\n",
       "        text-align: right;\n",
       "    }\n",
       "</style>\n",
       "<table border=\"1\" class=\"dataframe\">\n",
       "  <thead>\n",
       "    <tr style=\"text-align: right;\">\n",
       "      <th></th>\n",
       "      <th>id</th>\n",
       "      <th>listing_url</th>\n",
       "      <th>scrape_id</th>\n",
       "      <th>last_scraped</th>\n",
       "      <th>source</th>\n",
       "      <th>name</th>\n",
       "      <th>neighbourhood</th>\n",
       "      <th>neighbourhood_cleansed</th>\n",
       "      <th>latitude</th>\n",
       "      <th>longitude</th>\n",
       "      <th>property_type</th>\n",
       "      <th>room_type</th>\n",
       "      <th>accommodates</th>\n",
       "      <th>bedrooms</th>\n",
       "      <th>price</th>\n",
       "      <th>review_scores_location</th>\n",
       "    </tr>\n",
       "  </thead>\n",
       "  <tbody>\n",
       "    <tr>\n",
       "      <th>0</th>\n",
       "      <td>14726865</td>\n",
       "      <td>https://www.airbnb.com/rooms/14726865</td>\n",
       "      <td>20231226034302</td>\n",
       "      <td>2023-12-26</td>\n",
       "      <td>previous scrape</td>\n",
       "      <td>Rental unit in Munich · 1 bedroom · 1 bed · 1 ...</td>\n",
       "      <td>NaN</td>\n",
       "      <td>Neuhausen-Nymphenburg</td>\n",
       "      <td>48.14569</td>\n",
       "      <td>11.53166</td>\n",
       "      <td>Shared room in rental unit</td>\n",
       "      <td>Shared room</td>\n",
       "      <td>2</td>\n",
       "      <td>NaN</td>\n",
       "      <td>NaN</td>\n",
       "      <td>NaN</td>\n",
       "    </tr>\n",
       "    <tr>\n",
       "      <th>1</th>\n",
       "      <td>14976237</td>\n",
       "      <td>https://www.airbnb.com/rooms/14976237</td>\n",
       "      <td>20231226034302</td>\n",
       "      <td>2023-12-26</td>\n",
       "      <td>previous scrape</td>\n",
       "      <td>Rental unit in Munich · 1 bedroom · 3 beds · 1...</td>\n",
       "      <td>NaN</td>\n",
       "      <td>Laim</td>\n",
       "      <td>48.14312</td>\n",
       "      <td>11.49618</td>\n",
       "      <td>Entire rental unit</td>\n",
       "      <td>Entire home/apt</td>\n",
       "      <td>3</td>\n",
       "      <td>NaN</td>\n",
       "      <td>NaN</td>\n",
       "      <td>NaN</td>\n",
       "    </tr>\n",
       "    <tr>\n",
       "      <th>2</th>\n",
       "      <td>15794305</td>\n",
       "      <td>https://www.airbnb.com/rooms/15794305</td>\n",
       "      <td>20231226034302</td>\n",
       "      <td>2023-12-26</td>\n",
       "      <td>previous scrape</td>\n",
       "      <td>Rental unit in Munich · 1 bedroom · 1 bed · 1 ...</td>\n",
       "      <td>NaN</td>\n",
       "      <td>Moosach</td>\n",
       "      <td>48.18442</td>\n",
       "      <td>11.53336</td>\n",
       "      <td>Entire rental unit</td>\n",
       "      <td>Entire home/apt</td>\n",
       "      <td>2</td>\n",
       "      <td>NaN</td>\n",
       "      <td>NaN</td>\n",
       "      <td>5.0</td>\n",
       "    </tr>\n",
       "    <tr>\n",
       "      <th>3</th>\n",
       "      <td>40839352</td>\n",
       "      <td>https://www.airbnb.com/rooms/40839352</td>\n",
       "      <td>20231226034302</td>\n",
       "      <td>2023-12-26</td>\n",
       "      <td>previous scrape</td>\n",
       "      <td>Rental unit in Munich · 1 bedroom · 1 bed · 1 ...</td>\n",
       "      <td>NaN</td>\n",
       "      <td>Altstadt-Lehel</td>\n",
       "      <td>48.13635</td>\n",
       "      <td>11.58317</td>\n",
       "      <td>Entire rental unit</td>\n",
       "      <td>Entire home/apt</td>\n",
       "      <td>2</td>\n",
       "      <td>NaN</td>\n",
       "      <td>NaN</td>\n",
       "      <td>5.0</td>\n",
       "    </tr>\n",
       "    <tr>\n",
       "      <th>4</th>\n",
       "      <td>45776129</td>\n",
       "      <td>https://www.airbnb.com/rooms/45776129</td>\n",
       "      <td>20231226034302</td>\n",
       "      <td>2023-12-26</td>\n",
       "      <td>previous scrape</td>\n",
       "      <td>Rental unit in Munich · 1 bedroom · 2 beds · 1...</td>\n",
       "      <td>NaN</td>\n",
       "      <td>Schwanthalerhöhe</td>\n",
       "      <td>48.13779</td>\n",
       "      <td>11.53050</td>\n",
       "      <td>Entire rental unit</td>\n",
       "      <td>Entire home/apt</td>\n",
       "      <td>2</td>\n",
       "      <td>NaN</td>\n",
       "      <td>NaN</td>\n",
       "      <td>NaN</td>\n",
       "    </tr>\n",
       "  </tbody>\n",
       "</table>\n",
       "</div>"
      ],
      "text/plain": [
       "         id                            listing_url       scrape_id  \\\n",
       "0  14726865  https://www.airbnb.com/rooms/14726865  20231226034302   \n",
       "1  14976237  https://www.airbnb.com/rooms/14976237  20231226034302   \n",
       "2  15794305  https://www.airbnb.com/rooms/15794305  20231226034302   \n",
       "3  40839352  https://www.airbnb.com/rooms/40839352  20231226034302   \n",
       "4  45776129  https://www.airbnb.com/rooms/45776129  20231226034302   \n",
       "\n",
       "  last_scraped           source  \\\n",
       "0   2023-12-26  previous scrape   \n",
       "1   2023-12-26  previous scrape   \n",
       "2   2023-12-26  previous scrape   \n",
       "3   2023-12-26  previous scrape   \n",
       "4   2023-12-26  previous scrape   \n",
       "\n",
       "                                                name neighbourhood  \\\n",
       "0  Rental unit in Munich · 1 bedroom · 1 bed · 1 ...           NaN   \n",
       "1  Rental unit in Munich · 1 bedroom · 3 beds · 1...           NaN   \n",
       "2  Rental unit in Munich · 1 bedroom · 1 bed · 1 ...           NaN   \n",
       "3  Rental unit in Munich · 1 bedroom · 1 bed · 1 ...           NaN   \n",
       "4  Rental unit in Munich · 1 bedroom · 2 beds · 1...           NaN   \n",
       "\n",
       "  neighbourhood_cleansed  latitude  longitude               property_type  \\\n",
       "0  Neuhausen-Nymphenburg  48.14569   11.53166  Shared room in rental unit   \n",
       "1                   Laim  48.14312   11.49618          Entire rental unit   \n",
       "2                Moosach  48.18442   11.53336          Entire rental unit   \n",
       "3         Altstadt-Lehel  48.13635   11.58317          Entire rental unit   \n",
       "4       Schwanthalerhöhe  48.13779   11.53050          Entire rental unit   \n",
       "\n",
       "         room_type  accommodates  bedrooms price  review_scores_location  \n",
       "0      Shared room             2       NaN   NaN                     NaN  \n",
       "1  Entire home/apt             3       NaN   NaN                     NaN  \n",
       "2  Entire home/apt             2       NaN   NaN                     5.0  \n",
       "3  Entire home/apt             2       NaN   NaN                     5.0  \n",
       "4  Entire home/apt             2       NaN   NaN                     NaN  "
      ]
     },
     "execution_count": 4,
     "metadata": {},
     "output_type": "execute_result"
    }
   ],
   "source": [
    "listingsgz_dfprueba.head()\n"
   ]
  },
  {
   "cell_type": "code",
   "execution_count": 5,
   "metadata": {
    "vscode": {
     "languageId": "ruby"
    }
   },
   "outputs": [],
   "source": [
    "listingsgz_dfprueba.to_excel('output.xlsx', index=False)"
   ]
  }
 ],
 "metadata": {
  "kernelspec": {
   "display_name": "airbnb",
   "language": "python",
   "name": "python3"
  },
  "language_info": {
   "codemirror_mode": {
    "name": "ipython",
    "version": 3
   },
   "file_extension": ".py",
   "mimetype": "text/x-python",
   "name": "python",
   "nbconvert_exporter": "python",
   "pygments_lexer": "ipython3",
   "version": "3.11.9"
  }
 },
 "nbformat": 4,
 "nbformat_minor": 2
}
